{
  "nbformat": 4,
  "nbformat_minor": 0,
  "metadata": {
    "colab": {
      "provenance": [],
      "toc_visible": true
    },
    "kernelspec": {
      "name": "python3",
      "display_name": "Python 3"
    },
    "language_info": {
      "name": "python"
    }
  },
  "cells": [
    {
      "cell_type": "markdown",
      "source": [
        "#Section:33-40"
      ],
      "metadata": {
        "id": "BcnrWY7bOTdY"
      }
    },
    {
      "cell_type": "markdown",
      "source": [
        "###28.Problem"
      ],
      "metadata": {
        "id": "u6iBixGjjGhi"
      }
    },
    {
      "cell_type": "code",
      "source": [
        "number = int(input()) # Which number do you want to check?\n",
        "\n",
        "if number % 2 == 0:\n",
        "  print(\"This is an even number.\")\n",
        "else:\n",
        "  print(\"This is an odd number.\")\n"
      ],
      "metadata": {
        "colab": {
          "base_uri": "https://localhost:8080/"
        },
        "id": "CuTKBVBOik0v",
        "outputId": "646881ee-c9a4-4e0e-f568-b91afdeff1cb"
      },
      "execution_count": null,
      "outputs": [
        {
          "output_type": "stream",
          "name": "stdout",
          "text": [
            "4\n",
            "This is an even number.\n"
          ]
        }
      ]
    },
    {
      "cell_type": "markdown",
      "source": [
        "###29.Problem"
      ],
      "metadata": {
        "id": "o50Q0Mr5jMFh"
      }
    },
    {
      "cell_type": "code",
      "source": [
        "# Which year do you want to check?\n",
        "year = input()\n",
        "year = int(year)\n",
        "if year % 4 == 0:\n",
        "  if year % 100 == 0:\n",
        "    if year % 400 == 0:\n",
        "      print(\"Leap year.\")\n",
        "    else:\n",
        "      print(\"Not leap year.\")\n",
        "  else:\n",
        "    print(\"Leap year.\")\n",
        "else:\n",
        "  print(\"Not leap year.\")\n"
      ],
      "metadata": {
        "colab": {
          "base_uri": "https://localhost:8080/"
        },
        "id": "6vLWUMsdjOD9",
        "outputId": "3d9180a2-941b-47dd-fff9-c16e170edbdf"
      },
      "execution_count": null,
      "outputs": [
        {
          "output_type": "stream",
          "name": "stdout",
          "text": [
            "2000\n",
            "Leap year.\n"
          ]
        }
      ]
    },
    {
      "cell_type": "markdown",
      "source": [
        "###30.Problem"
      ],
      "metadata": {
        "id": "w4xfvgFaj2pN"
      }
    },
    {
      "cell_type": "code",
      "source": [
        "target = int(input())\n",
        "for number in range(1, target + 1):\n",
        "  if number % 3 == 0 and number % 5 == 0:\n",
        "    print(\"FizzBuzz\")\n",
        "  elif number % 3 == 0:\n",
        "    print(\"Fizz\")\n",
        "  elif number % 5 == 0:\n",
        "    print(\"Buzz\")\n",
        "  else:\n",
        "    print(number)"
      ],
      "metadata": {
        "colab": {
          "base_uri": "https://localhost:8080/"
        },
        "id": "Gxo9vtysj4yI",
        "outputId": "c8739295-7078-492b-aac9-e625aae67717"
      },
      "execution_count": null,
      "outputs": [
        {
          "output_type": "stream",
          "name": "stdout",
          "text": [
            "15\n",
            "1\n",
            "2\n",
            "Fizz\n",
            "4\n",
            "Buzz\n",
            "Fizz\n",
            "7\n",
            "8\n",
            "Fizz\n",
            "Buzz\n",
            "11\n",
            "Fizz\n",
            "13\n",
            "14\n",
            "FizzBuzz\n"
          ]
        }
      ]
    },
    {
      "cell_type": "markdown",
      "source": [
        "###31.Problem"
      ],
      "metadata": {
        "id": "46wihOWllkWy"
      }
    },
    {
      "cell_type": "code",
      "source": [
        "data = [\n",
        "    {\n",
        "        'name': 'Instagram',\n",
        "        'follower_count': 346,\n",
        "        'description': 'Social media platform',\n",
        "        'country': 'United States'\n",
        "    },\n",
        "    {\n",
        "        'name': 'Cristiano Ronaldo',\n",
        "        'follower_count': 215,\n",
        "        'description': 'Footballer',\n",
        "        'country': 'Portugal'\n",
        "    },\n",
        "    {\n",
        "        'name': 'Ariana Grande',\n",
        "        'follower_count': 183,\n",
        "        'description': 'Musician and actress',\n",
        "        'country': 'United States'\n",
        "    },\n",
        "    {\n",
        "        'name': 'Dwayne Johnson',\n",
        "        'follower_count': 181,\n",
        "        'description': 'Actor and professional wrestler',\n",
        "        'country': 'United States'\n",
        "    },\n",
        "    {\n",
        "        'name': 'Selena Gomez',\n",
        "        'follower_count': 174,\n",
        "        'description': 'Musician and actress',\n",
        "        'country': 'United States'\n",
        "    },\n",
        "    {\n",
        "        'name': 'Kylie Jenner',\n",
        "        'follower_count': 172,\n",
        "        'description': 'Reality TV personality and businesswoman and Self-Made Billionaire',\n",
        "        'country': 'United States'\n",
        "    },\n",
        "    {\n",
        "        'name': 'Kim Kardashian',\n",
        "        'follower_count': 167,\n",
        "        'description': 'Reality TV personality and businesswoman',\n",
        "        'country': 'United States'\n",
        "    },\n",
        "    {\n",
        "        'name': 'Lionel Messi',\n",
        "        'follower_count': 149,\n",
        "        'description': 'Footballer',\n",
        "        'country': 'Argentina'\n",
        "    },\n",
        "    {\n",
        "        'name': 'Beyoncé',\n",
        "        'follower_count': 145,\n",
        "        'description': 'Musician',\n",
        "        'country': 'United States'\n",
        "    },\n",
        "    {\n",
        "        'name': 'Neymar',\n",
        "        'follower_count': 138,\n",
        "        'description': 'Footballer',\n",
        "        'country': 'Brasil'\n",
        "    },\n",
        "    {\n",
        "        'name': 'National Geographic',\n",
        "        'follower_count': 135,\n",
        "        'description': 'Magazine',\n",
        "        'country': 'United States'\n",
        "    },\n",
        "    {\n",
        "        'name': 'Justin Bieber',\n",
        "        'follower_count': 133,\n",
        "        'description': 'Musician',\n",
        "        'country': 'Canada'\n",
        "    },\n",
        "    {\n",
        "        'name': 'Taylor Swift',\n",
        "        'follower_count': 131,\n",
        "        'description': 'Musician',\n",
        "        'country': 'United States'\n",
        "    },\n",
        "    {\n",
        "        'name': 'Kendall Jenner',\n",
        "        'follower_count': 127,\n",
        "        'description': 'Reality TV personality and Model',\n",
        "        'country': 'United States'\n",
        "    },\n",
        "    {\n",
        "        'name': 'Jennifer Lopez',\n",
        "        'follower_count': 119,\n",
        "        'description': 'Musician and actress',\n",
        "        'country': 'United States'\n",
        "    },\n",
        "    {\n",
        "        'name': 'Nicki Minaj',\n",
        "        'follower_count': 113,\n",
        "        'description': 'Musician',\n",
        "        'country': 'Trinidad and Tobago'\n",
        "    },\n",
        "    {\n",
        "        'name': 'Nike',\n",
        "        'follower_count': 109,\n",
        "        'description': 'Sportswear multinational',\n",
        "        'country': 'United States'\n",
        "    },\n",
        "    {\n",
        "        'name': 'Khloé Kardashian',\n",
        "        'follower_count': 108,\n",
        "        'description': 'Reality TV personality and businesswoman',\n",
        "        'country': 'United States'\n",
        "    },\n",
        "    {\n",
        "        'name': 'Miley Cyrus',\n",
        "        'follower_count': 107,\n",
        "        'description': 'Musician and actress',\n",
        "        'country': 'United States'\n",
        "    },\n",
        "    {\n",
        "        'name': 'Katy Perry',\n",
        "        'follower_count': 94,\n",
        "        'description': 'Musician',\n",
        "        'country': 'United States'\n",
        "    },\n",
        "    {\n",
        "        'name': 'Kourtney Kardashian',\n",
        "        'follower_count': 90,\n",
        "        'description': 'Reality TV personality',\n",
        "        'country': 'United States'\n",
        "    },\n",
        "    {\n",
        "        'name': 'Kevin Hart',\n",
        "        'follower_count': 89,\n",
        "        'description': 'Comedian and actor',\n",
        "        'country': 'United States'\n",
        "    },\n",
        "    {\n",
        "        'name': 'Ellen DeGeneres',\n",
        "        'follower_count': 87,\n",
        "        'description': 'Comedian',\n",
        "        'country': 'United States'\n",
        "    },\n",
        "    {\n",
        "        'name': 'Real Madrid CF',\n",
        "        'follower_count': 86,\n",
        "        'description': 'Football club',\n",
        "        'country': 'Spain'\n",
        "    },\n",
        "    {\n",
        "        'name': 'FC Barcelona',\n",
        "        'follower_count': 85,\n",
        "        'description': 'Football club',\n",
        "        'country': 'Spain'\n",
        "    },\n",
        "    {\n",
        "        'name': 'Rihanna',\n",
        "        'follower_count': 81,\n",
        "        'description': 'Musician and businesswoman',\n",
        "        'country': 'Barbados'\n",
        "    },\n",
        "    {\n",
        "        'name': 'Demi Lovato',\n",
        "        'follower_count': 80,\n",
        "        'description': 'Musician and actress',\n",
        "        'country': 'United States'\n",
        "    },\n",
        "    {\n",
        "        'name': \"Victoria's Secret\",\n",
        "        'follower_count': 69,\n",
        "        'description': 'Lingerie brand',\n",
        "        'country': 'United States'\n",
        "    },\n",
        "    {\n",
        "        'name': 'Zendaya',\n",
        "        'follower_count': 68,\n",
        "        'description': 'Actress and musician',\n",
        "        'country': 'United States'\n",
        "    },\n",
        "    {\n",
        "        'name': 'Shakira',\n",
        "        'follower_count': 66,\n",
        "        'description': 'Musician',\n",
        "        'country': 'Colombia'\n",
        "    },\n",
        "    {\n",
        "        'name': 'Drake',\n",
        "        'follower_count': 65,\n",
        "        'description': 'Musician',\n",
        "        'country': 'Canada'\n",
        "    },\n",
        "    {\n",
        "        'name': 'Chris Brown',\n",
        "        'follower_count': 64,\n",
        "        'description': 'Musician',\n",
        "        'country': 'United States'\n",
        "    },\n",
        "    {\n",
        "        'name': 'LeBron James',\n",
        "        'follower_count': 63,\n",
        "        'description': 'Basketball player',\n",
        "        'country': 'United States'\n",
        "    },\n",
        "    {\n",
        "        'name': 'Vin Diesel',\n",
        "        'follower_count': 62,\n",
        "        'description': 'Actor',\n",
        "        'country': 'United States'\n",
        "    },\n",
        "    {\n",
        "        'name': 'Cardi B',\n",
        "        'follower_count': 67,\n",
        "        'description': 'Musician',\n",
        "        'country': 'United States'\n",
        "    },\n",
        "    {\n",
        "        'name': 'David Beckham',\n",
        "        'follower_count': 82,\n",
        "        'description': 'Footballer',\n",
        "        'country': 'United Kingdom'\n",
        "    },\n",
        "    {\n",
        "        'name': 'Billie Eilish',\n",
        "        'follower_count': 61,\n",
        "        'description': 'Musician',\n",
        "        'country': 'United States'\n",
        "    },\n",
        "    {\n",
        "        'name': 'Justin Timberlake',\n",
        "        'follower_count': 59,\n",
        "        'description': 'Musician and actor',\n",
        "        'country': 'United States'\n",
        "    },\n",
        "    {\n",
        "        'name': 'UEFA Champions League',\n",
        "        'follower_count': 58,\n",
        "        'description': 'Club football competition',\n",
        "        'country': 'Europe'\n",
        "    },\n",
        "    {\n",
        "        'name': 'NASA',\n",
        "        'follower_count': 56,\n",
        "        'description': 'Space agency',\n",
        "        'country': 'United States'\n",
        "    },\n",
        "    {\n",
        "        'name': 'Emma Watson',\n",
        "        'follower_count': 56,\n",
        "        'description': 'Actress',\n",
        "        'country': 'United Kingdom'\n",
        "    },\n",
        "    {\n",
        "        'name': 'Shawn Mendes',\n",
        "        'follower_count': 57,\n",
        "        'description': 'Musician',\n",
        "        'country': 'Canada'\n",
        "    },\n",
        "    {\n",
        "        'name': 'Virat Kohli',\n",
        "        'follower_count': 55,\n",
        "        'description': 'Cricketer',\n",
        "        'country': 'India'\n",
        "    },\n",
        "    {\n",
        "        'name': 'Gigi Hadid',\n",
        "        'follower_count': 54,\n",
        "        'description': 'Model',\n",
        "        'country': 'United States'\n",
        "    },\n",
        "    {\n",
        "        'name': 'Priyanka Chopra Jonas',\n",
        "        'follower_count': 53,\n",
        "        'description': 'Actress and musician',\n",
        "        'country': 'India'\n",
        "    },\n",
        "    {\n",
        "        'name': '9GAG',\n",
        "        'follower_count': 52,\n",
        "        'description': 'Social media platform',\n",
        "        'country': 'China'\n",
        "    },\n",
        "    {\n",
        "        'name': 'Ronaldinho',\n",
        "        'follower_count': 51,\n",
        "        'description': 'Footballer',\n",
        "        'country': 'Brasil'\n",
        "    },\n",
        "    {\n",
        "        'name': 'Maluma',\n",
        "        'follower_count': 50,\n",
        "        'description': 'Musician',\n",
        "        'country': 'Colombia'\n",
        "    },\n",
        "    {\n",
        "        'name': 'Camila Cabello',\n",
        "        'follower_count': 49,\n",
        "        'description': 'Musician',\n",
        "        'country': 'Cuba'\n",
        "    },\n",
        "    {\n",
        "        'name': 'NBA',\n",
        "        'follower_count': 47,\n",
        "        'description': 'Club Basketball Competition',\n",
        "        'country': 'United States'\n",
        "    }\n",
        "]\n"
      ],
      "metadata": {
        "id": "EVDLhOcYk81V"
      },
      "execution_count": null,
      "outputs": []
    },
    {
      "cell_type": "code",
      "source": [
        "import random\n",
        "\n",
        "def get_random_account():\n",
        "  \"\"\"Get data from random account\"\"\"\n",
        "  return random.choice(data)\n",
        "\n",
        "def format_data(account):\n",
        "  \"\"\"Format account into printable format: name, description and country\"\"\"\n",
        "  name = account[\"name\"]\n",
        "  description = account[\"description\"]\n",
        "  country = account[\"country\"]\n",
        "  # print(f'{name}: {account[\"follower_count\"]}')\n",
        "  return f\"{name}, a {description}, from {country}\"\n",
        "\n",
        "def check_answer(guess, a_followers, b_followers):\n",
        "  \"\"\"Checks followers against user's guess\n",
        "  and returns True if they got it right.\n",
        "  Or False if they got it wrong.\"\"\"\n",
        "  if a_followers > b_followers:\n",
        "    return guess == \"a\"\n",
        "  else:\n",
        "    return guess == \"b\"\n",
        "\n",
        "\n",
        "def game():\n",
        "  score = 0\n",
        "  game_should_continue = True\n",
        "  account_a = get_random_account()\n",
        "  account_b = get_random_account()\n",
        "\n",
        "  while game_should_continue:\n",
        "    account_a = account_b\n",
        "    account_b = get_random_account()\n",
        "\n",
        "    while account_a == account_b:\n",
        "      account_b = get_random_account()\n",
        "\n",
        "    print(f\"Compare A: {format_data(account_a)}.\")\n",
        "\n",
        "    print(f\"Against B: {format_data(account_b)}.\")\n",
        "\n",
        "    guess = input(\"Who has more followers? Type 'A' or 'B': \").lower()\n",
        "    a_follower_count = account_a[\"follower_count\"]\n",
        "    b_follower_count = account_b[\"follower_count\"]\n",
        "    is_correct = check_answer(guess, a_follower_count, b_follower_count)\n",
        "\n",
        "\n",
        "    if is_correct:\n",
        "      score += 1\n",
        "      print(f\"You're right! Current score: {score}.\")\n",
        "    else:\n",
        "      game_should_continue = False\n",
        "      print(f\"Sorry, that's wrong. Final score: {score}\")\n",
        "\n",
        "game()\n"
      ],
      "metadata": {
        "colab": {
          "base_uri": "https://localhost:8080/"
        },
        "id": "mVs6k8x9lCYQ",
        "outputId": "fd01d18e-d3fb-4b46-f8b2-84bc33d568c2"
      },
      "execution_count": null,
      "outputs": [
        {
          "output_type": "stream",
          "name": "stdout",
          "text": [
            "Compare A: National Geographic, a Magazine, from United States.\n",
            "Against B: Katy Perry, a Musician, from United States.\n",
            "Who has more followers? Type 'A' or 'B': A\n",
            "You're right! Current score: 1.\n",
            "Compare A: Katy Perry, a Musician, from United States.\n",
            "Against B: National Geographic, a Magazine, from United States.\n",
            "Who has more followers? Type 'A' or 'B': B\n",
            "You're right! Current score: 2.\n",
            "Compare A: National Geographic, a Magazine, from United States.\n",
            "Against B: Demi Lovato, a Musician and actress, from United States.\n",
            "Who has more followers? Type 'A' or 'B': A\n",
            "You're right! Current score: 3.\n",
            "Compare A: Demi Lovato, a Musician and actress, from United States.\n",
            "Against B: Cristiano Ronaldo, a Footballer, from Portugal.\n",
            "Who has more followers? Type 'A' or 'B': A\n",
            "Sorry, that's wrong. Final score: 3\n"
          ]
        }
      ]
    },
    {
      "cell_type": "markdown",
      "source": [
        "###32.Problem  "
      ],
      "metadata": {
        "id": "6ERDaPbBA6yx"
      }
    },
    {
      "cell_type": "code",
      "source": [
        "file = open('/content/file.txt', 'r')\n",
        "\n",
        "\n",
        "for each in file:\n",
        "\tprint (each)\n"
      ],
      "metadata": {
        "colab": {
          "base_uri": "https://localhost:8080/"
        },
        "id": "Tvp6557yBDuu",
        "outputId": "958078c3-53eb-4526-a5e7-c8dc810c36e0"
      },
      "execution_count": null,
      "outputs": [
        {
          "output_type": "stream",
          "name": "stdout",
          "text": [
            "Hello world\n",
            "\n",
            "AnuragKumar\n",
            "\n",
            "123 456\n"
          ]
        }
      ]
    },
    {
      "cell_type": "code",
      "source": [
        "file = open(\"/content/file.txt\", \"r\")\n",
        "print (file.read())\n"
      ],
      "metadata": {
        "colab": {
          "base_uri": "https://localhost:8080/"
        },
        "id": "CQUQW2hgCAFy",
        "outputId": "969ac0e5-337c-45a7-82ab-b08617ef4b6a"
      },
      "execution_count": null,
      "outputs": [
        {
          "output_type": "stream",
          "name": "stdout",
          "text": [
            "Hello world\n",
            "AnuragKumar\n",
            "123 456\n"
          ]
        }
      ]
    },
    {
      "cell_type": "code",
      "source": [
        "with open(\"/content/file.txt\") as file:\n",
        "\tdata = file.read()\n",
        "\n",
        "print(data)\n"
      ],
      "metadata": {
        "colab": {
          "base_uri": "https://localhost:8080/"
        },
        "id": "zt9ogHgcCOxL",
        "outputId": "2170ca47-368c-423d-af21-e0a05a8df1d2"
      },
      "execution_count": null,
      "outputs": [
        {
          "output_type": "stream",
          "name": "stdout",
          "text": [
            "Hello world\n",
            "AnuragKumar\n",
            "123 456\n"
          ]
        }
      ]
    },
    {
      "cell_type": "code",
      "source": [
        "file = open(\"/content/file.txt\", \"r\")\n",
        "print (file.read(5))\n"
      ],
      "metadata": {
        "colab": {
          "base_uri": "https://localhost:8080/"
        },
        "id": "nEL_ziJiCYjK",
        "outputId": "9dbcb067-8c44-4b4a-8713-6d2468b89e14"
      },
      "execution_count": null,
      "outputs": [
        {
          "output_type": "stream",
          "name": "stdout",
          "text": [
            "Hello\n"
          ]
        }
      ]
    },
    {
      "cell_type": "code",
      "source": [
        "file = open('/content/file.txt','w')\n",
        "file.write(\"This is the write command\")\n",
        "file.write(\"It allows us to write in a particular file\")\n",
        "file.close()"
      ],
      "metadata": {
        "id": "yqgZQG9ZCvPL"
      },
      "execution_count": null,
      "outputs": []
    },
    {
      "cell_type": "markdown",
      "source": [
        "###33.Problem"
      ],
      "metadata": {
        "id": "ucGiKVdloMMg"
      }
    },
    {
      "cell_type": "markdown",
      "source": [
        "You are going to write a List Comprehension to create a new list called squared_numbers. This new list should contain every number in the list numbers but each number should be squared.\n",
        "\n",
        "e.g.\n",
        "4 * 4 = 16\n",
        "\n",
        "4 squared equals 16.\n",
        "\n",
        "DO NOT modify the List numbers directly. Try to use List Comprehension instead of a Loop.\n",
        "\n",
        "Target Output\n",
        "\n",
        "[1, 1, 4, 9, 25, 64, 169, 441, 1156, 3025]\n"
      ],
      "metadata": {
        "id": "IRflU1cQoSYV"
      }
    },
    {
      "cell_type": "code",
      "source": [
        "numbers = [1, 1, 2, 3, 5, 8, 13, 21, 34, 55]\n",
        "\n",
        "squared_numbers = [i * i for i in numbers]\n",
        "\n",
        "print(squared_numbers)\n"
      ],
      "metadata": {
        "colab": {
          "base_uri": "https://localhost:8080/"
        },
        "id": "wbOJRoMGoR0U",
        "outputId": "c5929269-b04f-487b-833b-964acd41633d"
      },
      "execution_count": null,
      "outputs": [
        {
          "output_type": "stream",
          "name": "stdout",
          "text": [
            "[1, 1, 4, 9, 25, 64, 169, 441, 1156, 3025]\n"
          ]
        }
      ]
    },
    {
      "cell_type": "markdown",
      "source": [
        "###34.Problem"
      ],
      "metadata": {
        "id": "NTyyLMG38K23"
      }
    },
    {
      "cell_type": "markdown",
      "source": [
        "In this list comprehension exercise you will practice using list comprehension to filter out the even numbers from a series of numbers.\n",
        "\n",
        "First, use list comprehension to convert the list_of_strings to a list of integers.\n",
        "\n",
        "Then use list comprehension again to create a new list called result. This new list should only contain the even numbers from the list numbers.\n",
        "\n",
        "Again, try to use Python's List Comprehension instead of a Loop.\n",
        "\n",
        "**Example Input**\n",
        "\n",
        "9, 0, 32, 8, 2, 8, 64, 29, 42, 99\n",
        "\n",
        "**Example Output**\n",
        "\n",
        "[0, 32, 8, 2, 8, 64, 42]"
      ],
      "metadata": {
        "id": "DpPVMUnp8Obf"
      }
    },
    {
      "cell_type": "code",
      "source": [
        "list_of_strings = input().split(',')\n",
        "# 🚨 Do  not change the code above\n",
        "\n",
        "# TODO: Use list comprehension to convert the strings to integers 👇:\n",
        "num = [int(x) for x in list_of_strings]\n",
        "\n",
        "# TODO: Use list comprehension to filter out the odd numbers\n",
        "# and store the even numbers in a list called \"result\"\n",
        "result = [x for x in num if x%2==0]\n",
        "\n",
        "# Write your code 👆 above:\n",
        "print(result)"
      ],
      "metadata": {
        "colab": {
          "base_uri": "https://localhost:8080/"
        },
        "id": "gJQ6zbow9N9V",
        "outputId": "4cfd71a1-ec3a-4673-f16f-b6af735a69f9"
      },
      "execution_count": null,
      "outputs": [
        {
          "output_type": "stream",
          "name": "stdout",
          "text": [
            "9, 0, 32, 8, 2, 8, 64, 29, 42, 99\n",
            "[0, 32, 8, 2, 8, 64, 42]\n"
          ]
        }
      ]
    },
    {
      "cell_type": "markdown",
      "source": [
        "###35.Problem"
      ],
      "metadata": {
        "id": "BKcW2l5p9wOW"
      }
    },
    {
      "cell_type": "code",
      "source": [
        "with open(\"/content/file1.txt\") as file1:\n",
        "  list1 = file1.readlines()\n",
        "\n",
        "with open(\"/content/file2.txt\") as file2:\n",
        "  list2 = file2.readlines()\n",
        "\n",
        "result = [int(num) for num in list1 if num in list2]\n",
        "\n",
        "# Your code above 👆\n",
        "print(result)"
      ],
      "metadata": {
        "colab": {
          "base_uri": "https://localhost:8080/"
        },
        "id": "nTVVl8H3_Mna",
        "outputId": "204fe637-3e5d-4a84-986d-cecc2c5a3c0e"
      },
      "execution_count": null,
      "outputs": [
        {
          "output_type": "stream",
          "name": "stdout",
          "text": [
            "[2, 3, 4, 5]\n"
          ]
        }
      ]
    },
    {
      "cell_type": "markdown",
      "source": [
        "###36.Problem"
      ],
      "metadata": {
        "id": "9R4UkhX0CuJU"
      }
    },
    {
      "cell_type": "markdown",
      "source": [
        "You are going to use Dictionary Comprehension to create a dictionary called result that takes each word in the given sentence and calculates the number of letters in each word.\n",
        "\n",
        "Try Googling to find out how to convert a sentence into a list of words.\n",
        "\n",
        "Do NOT Create a dictionary directly. Try to use Dictionary Comprehension instead of a Loop.\n",
        "\n",
        "**Example Input**\n",
        "\n",
        "What is the Airspeed Velocity of an Unladen Swallow?\n",
        "\n",
        "**Example Output**\n",
        "\n",
        "{\n",
        "'What': 4,\n",
        "\n",
        "'is': 2,\n",
        "\n",
        "'the': 3,\n",
        "\n",
        "'Airspeed': 8,\n",
        "\n",
        "'Velocity': 8,\n",
        "\n",
        "'of': 2,\n",
        "\n",
        "'an': 2,\n",
        "\n",
        "'Unladen': 7,\n",
        "\n",
        "'Swallow?': 8\n",
        "\n",
        "}"
      ],
      "metadata": {
        "id": "TkdqyROAC5c8"
      }
    },
    {
      "cell_type": "code",
      "source": [
        "sentence = input()\n",
        "\n",
        "# Using dictionary comprehension\n",
        "result = {word:len(word) for word in sentence.split()}\n",
        "\n",
        "print(result)"
      ],
      "metadata": {
        "colab": {
          "base_uri": "https://localhost:8080/"
        },
        "id": "Icuidu8wDFmO",
        "outputId": "53215558-7419-4cf0-d265-682035b11cb0"
      },
      "execution_count": null,
      "outputs": [
        {
          "output_type": "stream",
          "name": "stdout",
          "text": [
            "What is the Airspeed Velocity of an Unladen Swallow?\n",
            "{'What': 4, 'is': 2, 'the': 3, 'Airspeed': 8, 'Velocity': 8, 'of': 2, 'an': 2, 'Unladen': 7, 'Swallow?': 8}\n"
          ]
        }
      ]
    },
    {
      "cell_type": "markdown",
      "source": [
        "###37.Problem"
      ],
      "metadata": {
        "id": "yWZCecX8DUZI"
      }
    },
    {
      "cell_type": "code",
      "source": [
        "# eval() converts correctly formatted string to dict\n",
        "weather_c = eval(input())\n",
        "\n",
        "# dictionary comprehension\n",
        "weather_f = {day:temp * 9/5 + 32 for (day, temp) in weather_c.items()}\n",
        "\n",
        "print(weather_f)"
      ],
      "metadata": {
        "colab": {
          "base_uri": "https://localhost:8080/"
        },
        "id": "gJfj422eETGP",
        "outputId": "900bb522-6869-4750-c8ac-4c7bbefb67eb"
      },
      "execution_count": null,
      "outputs": [
        {
          "output_type": "stream",
          "name": "stdout",
          "text": [
            "{\"Monday\": 12, \"Tuesday\": 14, \"Wednesday\": 15, \"Thursday\": 14, \"Friday\": 21, \"Saturday\": 22, \"Sunday\": 24}\n",
            "{'Monday': 53.6, 'Tuesday': 57.2, 'Wednesday': 59.0, 'Thursday': 57.2, 'Friday': 69.8, 'Saturday': 71.6, 'Sunday': 75.2}\n"
          ]
        }
      ]
    }
  ]
}