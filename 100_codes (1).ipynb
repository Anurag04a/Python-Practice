{
  "cells": [
    {
      "cell_type": "markdown",
      "metadata": {
        "id": "_nEyJWFK7jPc"
      },
      "source": [
        "#1. Python Program to check if a Number Is Positive Or Negative"
      ]
    },
    {
      "cell_type": "code",
      "execution_count": 3,
      "metadata": {
        "colab": {
          "base_uri": "https://localhost:8080/"
        },
        "id": "ftKdxjuf74aL",
        "outputId": "cb6abf65-587d-4fa1-e287-242f2c41eb34"
      },
      "outputs": [
        {
          "name": "stdout",
          "output_type": "stream",
          "text": [
            "Enter the number: 6\n",
            "The given number is Positive\n"
          ]
        }
      ],
      "source": [
        "num = int(input(\"Enter the number: \" ))\n",
        "if num>0:\n",
        "  print('The given number is Positive')\n",
        "elif num == 0:\n",
        "  print(\"The given number is Zero\")\n",
        "else:\n",
        "  print('The given number is negative')"
      ]
    },
    {
      "cell_type": "markdown",
      "metadata": {
        "id": "-BgiCMxk877t"
      },
      "source": [
        "#2. Check whether a given number is even or odd"
      ]
    },
    {
      "cell_type": "code",
      "execution_count": 6,
      "metadata": {
        "colab": {
          "base_uri": "https://localhost:8080/"
        },
        "id": "uiKAxCIa9DzB",
        "outputId": "7aa3dfd2-47a3-4583-f88e-8ca2a9e8626d"
      },
      "outputs": [
        {
          "name": "stdout",
          "output_type": "stream",
          "text": [
            "Enter the number: 5\n",
            "The given number is odd\n"
          ]
        }
      ],
      "source": [
        "num = int(input('Enter the number: '))\n",
        "if num%2 == 0:\n",
        "  print('The given number is even')\n",
        "else:\n",
        "  print('The given number is odd')"
      ]
    },
    {
      "cell_type": "markdown",
      "metadata": {
        "id": "3eNSzV1T9hF0"
      },
      "source": [
        "#3. Find the sum of first N natural numbers"
      ]
    },
    {
      "cell_type": "code",
      "execution_count": 8,
      "metadata": {
        "colab": {
          "base_uri": "https://localhost:8080/"
        },
        "id": "jIDAAlsE9ne1",
        "outputId": "47d10541-b9ed-482a-803b-7bb94bc6f83b"
      },
      "outputs": [
        {
          "name": "stdout",
          "output_type": "stream",
          "text": [
            "10\n",
            "55\n"
          ]
        }
      ],
      "source": [
        "n = int(input())\n",
        "sum = 0\n",
        "for i in range(1,n+1):\n",
        "  sum = sum + i \n",
        "print(sum)"
      ]
    },
    {
      "cell_type": "code",
      "execution_count": 9,
      "metadata": {
        "colab": {
          "base_uri": "https://localhost:8080/"
        },
        "id": "bv3_8x2K-Dv3",
        "outputId": "7062131d-f956-49d5-9bac-6f83fc9f70e2"
      },
      "outputs": [
        {
          "name": "stdout",
          "output_type": "stream",
          "text": [
            "5\n",
            "15\n"
          ]
        }
      ],
      "source": [
        "n = int(input())\n",
        "sum = 0\n",
        "i = 1\n",
        "while i <= n:\n",
        "  sum = sum + i\n",
        "  i = i+ 1\n",
        "print(sum)"
      ]
    },
    {
      "cell_type": "code",
      "execution_count": 14,
      "metadata": {
        "colab": {
          "base_uri": "https://localhost:8080/"
        },
        "id": "gQ-vSDsn-XTg",
        "outputId": "86e552df-2a5a-4bc0-e3e5-e8d291ced52a"
      },
      "outputs": [
        {
          "name": "stdout",
          "output_type": "stream",
          "text": [
            "20\n",
            "210\n"
          ]
        }
      ],
      "source": [
        "n = int(input())\n",
        "sum = (n*(n+1))//2\n",
        "print(sum)"
      ]
    },
    {
      "cell_type": "markdown",
      "metadata": {
        "id": "iIyPB9ab-1EV"
      },
      "source": [
        "#4. Sum of N natural numbers using Python :"
      ]
    },
    {
      "cell_type": "code",
      "execution_count": 15,
      "metadata": {
        "colab": {
          "base_uri": "https://localhost:8080/"
        },
        "id": "qn736rrq_Dze",
        "outputId": "8d839485-f964-41e5-b976-bb5e6e62408f"
      },
      "outputs": [
        {
          "name": "stdout",
          "output_type": "stream",
          "text": [
            "67\n",
            "2278\n"
          ]
        }
      ],
      "source": [
        "n = int(input())\n",
        "sum = 0\n",
        "i = 1\n",
        "while i <= n:\n",
        "  sum = sum + i\n",
        "  i = i+ 1\n",
        "print(sum)"
      ]
    },
    {
      "cell_type": "code",
      "execution_count": 16,
      "metadata": {
        "colab": {
          "base_uri": "https://localhost:8080/"
        },
        "id": "x-sUMvMs_v_E",
        "outputId": "e5d2a8e0-e422-4fcc-a53a-f4b0105d3f4c"
      },
      "outputs": [
        {
          "name": "stdout",
          "output_type": "stream",
          "text": [
            "14\n",
            "105\n"
          ]
        }
      ],
      "source": [
        "def sum_of_n_natural_number(n):\n",
        "  sum = (n*(n+1))//2\n",
        "  return sum\n",
        "n = int(input())\n",
        "sum = sum_of_n_natural_number(n)\n",
        "print(sum)"
      ]
    },
    {
      "cell_type": "markdown",
      "metadata": {
        "id": "O3AwZ6eOAQh5"
      },
      "source": [
        "#5. Sum of numbers in a given range"
      ]
    },
    {
      "cell_type": "code",
      "execution_count": 28,
      "metadata": {
        "colab": {
          "base_uri": "https://localhost:8080/"
        },
        "id": "bpCucxz4AXBb",
        "outputId": "85a9ef75-8fb4-4d3d-8a35-d92840dc9b27"
      },
      "outputs": [
        {
          "name": "stdout",
          "output_type": "stream",
          "text": [
            "Enter the first number: 2\n",
            "Enter the last number: 4\n",
            "9\n"
          ]
        }
      ],
      "source": [
        "First_value = int(input('Enter the first number: '))\n",
        "Last_value = int(input(\"Enter the last number: \"))\n",
        "sum = 0\n",
        "for i in range(First_value,Last_value+1):\n",
        "  sum = sum+ i\n",
        "print(sum)"
      ]
    },
    {
      "cell_type": "markdown",
      "metadata": {
        "id": "nk_4NIh_CD2Y"
      },
      "source": [
        "#6. Python Program to Find Greatest of Two Numbers"
      ]
    },
    {
      "cell_type": "code",
      "execution_count": 30,
      "metadata": {
        "colab": {
          "base_uri": "https://localhost:8080/"
        },
        "id": "CF309MdUCVdN",
        "outputId": "3468089d-f201-49d1-95e0-e5365b3112ee"
      },
      "outputs": [
        {
          "name": "stdout",
          "output_type": "stream",
          "text": [
            "Enter the first value: 4\n",
            "Enter the second value: 59\n",
            "The Greatest number is:  59\n"
          ]
        }
      ],
      "source": [
        "a = int(input('Enter the first value: '))\n",
        "b = int(input(\"Enter the second value: \"))\n",
        "if a>=b:\n",
        "  print(\"the Greatest number is :\", a)\n",
        "else:\n",
        "  print('The Greatest number is: ', b)"
      ]
    },
    {
      "cell_type": "markdown",
      "metadata": {
        "id": "oWA8Uu_PDISt"
      },
      "source": [
        "#7. Leap year or not"
      ]
    },
    {
      "cell_type": "code",
      "execution_count": 33,
      "metadata": {
        "colab": {
          "base_uri": "https://localhost:8080/"
        },
        "id": "wGTix2kZDM86",
        "outputId": "83724931-d2fd-417e-ee59-14e185c6df23"
      },
      "outputs": [
        {
          "name": "stdout",
          "output_type": "stream",
          "text": [
            "Enter the Year: 2100\n",
            "The given year is not Leap\n"
          ]
        }
      ],
      "source": [
        "year = int(input(\"Enter the Year: \"))\n",
        "if year % 4 == 0:\n",
        "  if year % 100==0:\n",
        "    if year % 400 ==0:\n",
        "      print(\"The given year is Leap\")\n",
        "    else:\n",
        "      print(\"The given year is not Leap\")\n",
        "  else:\n",
        "    print(\"The given year is Leap\")\n",
        "else:\n",
        "  print(\"The given year is not Leap\")"
      ]
    },
    {
      "cell_type": "code",
      "execution_count": 35,
      "metadata": {
        "colab": {
          "base_uri": "https://localhost:8080/"
        },
        "id": "7lDAUDtsFImf",
        "outputId": "ec7bb0ad-5c73-4b09-e15b-c748164c7d19"
      },
      "outputs": [
        {
          "name": "stdout",
          "output_type": "stream",
          "text": [
            "Enter the Year: 2000\n",
            "The given year is Leap\n"
          ]
        }
      ],
      "source": [
        "year = int(input(\"Enter the Year: \"))\n",
        "if (year % 4 == 0 and year % 100 != 0) or year % 400 == 0:\n",
        "  print(\"The given year is Leap\")\n",
        "else:\n",
        "  print(\"The given year is not Leap\")\n"
      ]
    },
    {
      "cell_type": "markdown",
      "metadata": {
        "id": "UDpM5PXOGrJ_"
      },
      "source": [
        "#8. Program to check if the given number is Prime or Not"
      ]
    },
    {
      "cell_type": "code",
      "execution_count": 41,
      "metadata": {
        "colab": {
          "base_uri": "https://localhost:8080/"
        },
        "id": "zBs-Tu2xG0EK",
        "outputId": "25e50c90-d7ba-498b-ea5e-6782f5537401"
      },
      "outputs": [
        {
          "name": "stdout",
          "output_type": "stream",
          "text": [
            "Enter the number: 17\n",
            "The given number is Prime\n"
          ]
        }
      ],
      "source": [
        "def isPrime(n):\n",
        "  for d in range(2,n):\n",
        "    if n % d == 0:\n",
        "      return False\n",
        "  else:\n",
        "    return True \n",
        "\n",
        "num = int(input(\"Enter the number: \"))\n",
        "prime_or_not = isPrime(num)\n",
        "if prime_or_not:\n",
        "  print(\"The given number is Prime\")\n",
        "else:\n",
        "  print(\"The given number is not Prime\")"
      ]
    },
    {
      "cell_type": "markdown",
      "metadata": {
        "id": "Az2Ir1q8J8Y_"
      },
      "source": [
        "#9. Print Prime Numbers in a Given Range"
      ]
    },
    {
      "cell_type": "code",
      "execution_count": 43,
      "metadata": {
        "colab": {
          "base_uri": "https://localhost:8080/"
        },
        "id": "xqEmcwZeKNW3",
        "outputId": "d8077bcc-3d50-481a-b761-c807e3c046e3"
      },
      "outputs": [
        {
          "name": "stdout",
          "output_type": "stream",
          "text": [
            "Enter the First number: 2\n",
            "Enter the Last number: 20\n",
            "Prime number:  2\n",
            "Prime number:  3\n",
            "Prime number:  5\n",
            "Prime number:  7\n",
            "Prime number:  11\n",
            "Prime number:  13\n",
            "Prime number:  17\n",
            "Prime number:  19\n"
          ]
        }
      ],
      "source": [
        "def isPrime(n):\n",
        "  for d in range(2,n):\n",
        "    if n % d == 0:\n",
        "      return False\n",
        "  else:\n",
        "    return True \n",
        "\n",
        "def prime(a,b):\n",
        "  for n in range(a,b+1):\n",
        "    if isPrime(n):\n",
        "      print('Prime number: ',n)\n",
        "\n",
        "a = int(input(\"Enter the First number: \"))\n",
        "b = int(input(\"Enter the Last number: \"))\n",
        "prime(a,b)"
      ]
    },
    {
      "cell_type": "code",
      "execution_count": 49,
      "metadata": {
        "colab": {
          "base_uri": "https://localhost:8080/"
        },
        "id": "UAMkO5FbL_Dt",
        "outputId": "34d4e579-7ad6-445f-f833-5a0afadf898e"
      },
      "outputs": [
        {
          "name": "stdout",
          "output_type": "stream",
          "text": [
            "Enter the First number: 2\n",
            "Enter the Last number: 20\n",
            "The prime:  2\n",
            "The prime:  3\n",
            "The prime:  5\n",
            "The prime:  7\n",
            "The prime:  11\n",
            "The prime:  13\n",
            "The prime:  17\n",
            "The prime:  19\n"
          ]
        }
      ],
      "source": [
        "a = int(input(\"Enter the First number: \"))\n",
        "b = int(input(\"Enter the Last number: \"))\n",
        "while a<=b:\n",
        "  j = 2\n",
        "  while j<20a:\n",
        "    if a % j == 0:\n",
        "      break\n",
        "    j = j + 1\n",
        "  else:\n",
        "    print('The prime: ', a)\n",
        "  a = a+1"
      ]
    },
    {
      "cell_type": "code",
      "execution_count": 50,
      "metadata": {
        "colab": {
          "base_uri": "https://localhost:8080/"
        },
        "id": "nE7zlicyN_MS",
        "outputId": "7175f869-38a1-4a5c-9f6c-ec11acdb31e9"
      },
      "outputs": [
        {
          "name": "stdout",
          "output_type": "stream",
          "text": [
            "Enter the First number: 2\n",
            "Enter the Last number: 20\n",
            "The Prime:  2\n",
            "The Prime:  3\n",
            "The Prime:  5\n",
            "The Prime:  7\n",
            "The Prime:  11\n",
            "The Prime:  13\n",
            "The Prime:  17\n",
            "The Prime:  19\n"
          ]
        }
      ],
      "source": [
        "a = int(input(\"Enter the First number: \"))\n",
        "b = int(input(\"Enter the Last number: \"))\n",
        "for n in range(a,b+1):\n",
        "  for d in range(2,n):\n",
        "    if n%d == 0:\n",
        "      break\n",
        "  else:\n",
        "    print('The Prime: ', n)  "
      ]
    },
    {
      "cell_type": "code",
      "execution_count": 51,
      "metadata": {
        "colab": {
          "base_uri": "https://localhost:8080/"
        },
        "id": "HELjTbotO3Ql",
        "outputId": "d93aa655-b2e3-4ee3-d714-72b4680072a5"
      },
      "outputs": [
        {
          "name": "stdout",
          "output_type": "stream",
          "text": [
            "Prime number:  2\n",
            "Prime number:  3\n",
            "Prime number:  5\n",
            "Prime number:  7\n",
            "Prime number:  11\n",
            "Prime number:  13\n",
            "Prime number:  17\n",
            "Prime number:  19\n"
          ]
        }
      ],
      "source": [
        "prime(2,20)"
      ]
    },
    {
      "cell_type": "markdown",
      "metadata": {
        "id": "UgZQzzyXPGka"
      },
      "source": [
        "#10. Sum of digits of number"
      ]
    },
    {
      "cell_type": "code",
      "execution_count": 55,
      "metadata": {
        "colab": {
          "base_uri": "https://localhost:8080/"
        },
        "id": "o0E6F0dyPgaw",
        "outputId": "f9789388-1b1a-4fe4-a470-96f707de11a1"
      },
      "outputs": [
        {
          "name": "stdout",
          "output_type": "stream",
          "text": [
            "678\n",
            "21\n"
          ]
        }
      ],
      "source": [
        "def sumofdigits(n):\n",
        "  sum = 0\n",
        "  while n > 0:\n",
        "    t = n % 10\n",
        "    sum = sum + t \n",
        "    n = n //10\n",
        "  return sum\n",
        "n = int(input())\n",
        "sum = sumofdigits(n)\n",
        "print(sum)"
      ]
    },
    {
      "cell_type": "markdown",
      "metadata": {
        "id": "jVAQO97dTJgL"
      },
      "source": [
        "#11. Reverse of a given number"
      ]
    },
    {
      "cell_type": "code",
      "execution_count": 1,
      "metadata": {
        "colab": {
          "base_uri": "https://localhost:8080/"
        },
        "id": "9rLzfQCSTlSn",
        "outputId": "d93363ce-ca82-42be-eb6e-ad763bac7798"
      },
      "outputs": [
        {
          "name": "stdout",
          "output_type": "stream",
          "text": [
            "341\n"
          ]
        }
      ],
      "source": [
        "def reverse(n):\n",
        "  reverse = 0\n",
        "  while n > 0:\n",
        "    t = n % 10\n",
        "    reverse = 10* reverse + t \n",
        "    n = n//10\n",
        "  return reverse\n",
        "\n",
        "n = int(input())\n",
        "reversed = reverse(n)\n",
        "print(reversed)"
      ]
    }
  ],
  "metadata": {
    "colab": {
      "name": "100 codes.ipynb",
      "provenance": []
    },
    "kernelspec": {
      "display_name": "Python 3",
      "name": "python3"
    },
    "language_info": {
      "codemirror_mode": {
        "name": "ipython",
        "version": 3
      },
      "file_extension": ".py",
      "mimetype": "text/x-python",
      "name": "python",
      "nbconvert_exporter": "python",
      "pygments_lexer": "ipython3",
      "version": "3.11.1"
    }
  },
  "nbformat": 4,
  "nbformat_minor": 0
}
