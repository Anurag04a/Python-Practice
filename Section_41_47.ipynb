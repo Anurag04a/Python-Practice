{
  "nbformat": 4,
  "nbformat_minor": 0,
  "metadata": {
    "colab": {
      "provenance": [],
      "toc_visible": true
    },
    "kernelspec": {
      "name": "python3",
      "display_name": "Python 3"
    },
    "language_info": {
      "name": "python"
    }
  },
  "cells": [
    {
      "cell_type": "markdown",
      "source": [
        "#**Section:41-47- *args & * *kwargs**"
      ],
      "metadata": {
        "id": "-Dpu7UZ0P4KT"
      }
    },
    {
      "cell_type": "markdown",
      "source": [
        "###38.Problem"
      ],
      "metadata": {
        "id": "cwXbrD5nNfL8"
      }
    },
    {
      "cell_type": "code",
      "source": [
        "def add(*args):\n",
        "    # print(args[1])\n",
        "\n",
        "    sum = 0\n",
        "    for n in args:\n",
        "        sum += n\n",
        "    return sum\n",
        "print(add(3, 5, 6, 2, 1, 7, 4, 3))\n"
      ],
      "metadata": {
        "colab": {
          "base_uri": "https://localhost:8080/"
        },
        "id": "H9VEtSlWNiEu",
        "outputId": "70a156d0-6e81-4922-9367-7bad88edb87a"
      },
      "execution_count": null,
      "outputs": [
        {
          "output_type": "stream",
          "name": "stdout",
          "text": [
            "31\n"
          ]
        }
      ]
    },
    {
      "cell_type": "markdown",
      "source": [
        "###39.Problem"
      ],
      "metadata": {
        "id": "y7sdNudjOEwv"
      }
    },
    {
      "cell_type": "code",
      "source": [
        "def calculate(n, **kwargs):\n",
        "    print(kwargs)\n",
        "\n",
        "    n += kwargs[\"add\"]\n",
        "    n *= kwargs[\"multiply\"]\n",
        "    print(n)\n",
        "\n",
        "\n",
        "calculate(2, add=3, multiply=5)"
      ],
      "metadata": {
        "colab": {
          "base_uri": "https://localhost:8080/"
        },
        "id": "HMPYbrinNxaI",
        "outputId": "1dbeb34b-d610-4de1-b6e8-22e879e8be3a"
      },
      "execution_count": null,
      "outputs": [
        {
          "output_type": "stream",
          "name": "stdout",
          "text": [
            "{'add': 3, 'multiply': 5}\n",
            "25\n"
          ]
        }
      ]
    },
    {
      "cell_type": "markdown",
      "source": [
        "###40.Problem"
      ],
      "metadata": {
        "id": "puuiYEhfOGmD"
      }
    },
    {
      "cell_type": "code",
      "source": [
        "try:\n",
        "    file = open(\"/content/a_file.txt\")\n",
        "    a_dictionary = {\"key\": \"value\"}\n",
        "    print(a_dictionary[\"key\"])\n",
        "except FileNotFoundError:\n",
        "    file = open(\"/content/a_file.txt\", \"w\")\n",
        "    file.write(\"Something\")\n",
        "except KeyError as error_message:\n",
        "    print(f\"The key {error_message} does not exist.\")\n",
        "else:\n",
        "    content = file.read()\n",
        "    print(content)\n",
        "finally:\n",
        "    raise TypeError(\"This is an error that I made up.\")"
      ],
      "metadata": {
        "id": "URhjGDY4OLPR",
        "colab": {
          "base_uri": "https://localhost:8080/",
          "height": 245
        },
        "outputId": "c62b2a9a-eb4a-462d-9368-2c02b4d16dbe"
      },
      "execution_count": null,
      "outputs": [
        {
          "output_type": "stream",
          "name": "stdout",
          "text": [
            "value\n",
            "a : 104\n"
          ]
        },
        {
          "output_type": "error",
          "ename": "TypeError",
          "evalue": "ignored",
          "traceback": [
            "\u001b[0;31m---------------------------------------------------------------------------\u001b[0m",
            "\u001b[0;31mTypeError\u001b[0m                                 Traceback (most recent call last)",
            "\u001b[0;32m<ipython-input-3-fc77b71238c8>\u001b[0m in \u001b[0;36m<cell line: 1>\u001b[0;34m()\u001b[0m\n\u001b[1;32m     12\u001b[0m     \u001b[0mprint\u001b[0m\u001b[0;34m(\u001b[0m\u001b[0mcontent\u001b[0m\u001b[0;34m)\u001b[0m\u001b[0;34m\u001b[0m\u001b[0;34m\u001b[0m\u001b[0m\n\u001b[1;32m     13\u001b[0m \u001b[0;32mfinally\u001b[0m\u001b[0;34m:\u001b[0m\u001b[0;34m\u001b[0m\u001b[0;34m\u001b[0m\u001b[0m\n\u001b[0;32m---> 14\u001b[0;31m     \u001b[0;32mraise\u001b[0m \u001b[0mTypeError\u001b[0m\u001b[0;34m(\u001b[0m\u001b[0;34m\"This is an error that I made up.\"\u001b[0m\u001b[0;34m)\u001b[0m\u001b[0;34m\u001b[0m\u001b[0;34m\u001b[0m\u001b[0m\n\u001b[0m",
            "\u001b[0;31mTypeError\u001b[0m: This is an error that I made up."
          ]
        }
      ]
    },
    {
      "cell_type": "markdown",
      "source": [
        "###41.Problem"
      ],
      "metadata": {
        "id": "xd9IX3-PRBRh"
      }
    },
    {
      "cell_type": "code",
      "source": [
        "height = float(input(\"Height: \"))\n",
        "weight = int(input(\"Weight: \"))\n",
        "\n",
        "if height > 3:\n",
        "    raise ValueError(\"Human Height should not be over 3 meters.\")\n",
        "\n",
        "bmi = weight / height ** 2\n",
        "print(bmi)\n"
      ],
      "metadata": {
        "colab": {
          "base_uri": "https://localhost:8080/",
          "height": 280
        },
        "id": "SuSijt0TRJxX",
        "outputId": "97d0f1f3-b710-4adc-fc5b-dc86b84a2df1"
      },
      "execution_count": null,
      "outputs": [
        {
          "name": "stdout",
          "output_type": "stream",
          "text": [
            "Height: 14\n",
            "Weight: 14\n"
          ]
        },
        {
          "output_type": "error",
          "ename": "ValueError",
          "evalue": "ignored",
          "traceback": [
            "\u001b[0;31m---------------------------------------------------------------------------\u001b[0m",
            "\u001b[0;31mValueError\u001b[0m                                Traceback (most recent call last)",
            "\u001b[0;32m<ipython-input-4-9c1cb3a2f032>\u001b[0m in \u001b[0;36m<cell line: 4>\u001b[0;34m()\u001b[0m\n\u001b[1;32m      3\u001b[0m \u001b[0;34m\u001b[0m\u001b[0m\n\u001b[1;32m      4\u001b[0m \u001b[0;32mif\u001b[0m \u001b[0mheight\u001b[0m \u001b[0;34m>\u001b[0m \u001b[0;36m3\u001b[0m\u001b[0;34m:\u001b[0m\u001b[0;34m\u001b[0m\u001b[0;34m\u001b[0m\u001b[0m\n\u001b[0;32m----> 5\u001b[0;31m     \u001b[0;32mraise\u001b[0m \u001b[0mValueError\u001b[0m\u001b[0;34m(\u001b[0m\u001b[0;34m\"Human Height should not be over 3 meters.\"\u001b[0m\u001b[0;34m)\u001b[0m\u001b[0;34m\u001b[0m\u001b[0;34m\u001b[0m\u001b[0m\n\u001b[0m\u001b[1;32m      6\u001b[0m \u001b[0;34m\u001b[0m\u001b[0m\n\u001b[1;32m      7\u001b[0m \u001b[0mbmi\u001b[0m \u001b[0;34m=\u001b[0m \u001b[0mweight\u001b[0m \u001b[0;34m/\u001b[0m \u001b[0mheight\u001b[0m \u001b[0;34m**\u001b[0m \u001b[0;36m2\u001b[0m\u001b[0;34m\u001b[0m\u001b[0;34m\u001b[0m\u001b[0m\n",
            "\u001b[0;31mValueError\u001b[0m: Human Height should not be over 3 meters."
          ]
        }
      ]
    },
    {
      "cell_type": "markdown",
      "source": [
        "###**42.Problem**"
      ],
      "metadata": {
        "id": "yLIr1SfPSudG"
      }
    },
    {
      "cell_type": "markdown",
      "source": [
        "We've got some buggy code. Try running the code. The code will crash and give you an IndexError. This is because we're looking through the list of fruits for an index that is out of range."
      ],
      "metadata": {
        "id": "umUX2iDBS4FN"
      }
    },
    {
      "cell_type": "code",
      "source": [
        "# Convert formatted string to list\n",
        "fruits = eval(input())\n",
        "\n",
        "# Catch the exception and make sure the code runs without crashing.\n",
        "def make_pie(index):\n",
        "  try:\n",
        "    fruit = fruits[index]\n",
        "  except IndexError:\n",
        "    print(\"Fruit pie\")\n",
        "  else:\n",
        "    print(fruit + \" pie\")\n",
        "\n",
        "make_pie(4)"
      ],
      "metadata": {
        "colab": {
          "base_uri": "https://localhost:8080/"
        },
        "id": "436xrsj2S5RU",
        "outputId": "73749eb3-1d2b-41de-9007-05be2bdaf7da"
      },
      "execution_count": null,
      "outputs": [
        {
          "output_type": "stream",
          "name": "stdout",
          "text": [
            "[\"Apple\", \"Pear\", \"Orange\"]\n",
            "Fruit pie\n"
          ]
        }
      ]
    },
    {
      "cell_type": "markdown",
      "source": [
        "###**43.Problem**"
      ],
      "metadata": {
        "id": "lOPIgmidTKsp"
      }
    },
    {
      "cell_type": "markdown",
      "source": [
        "We've got some buggy code, try running the code. The code will crash and give you a KeyError. This is because some of the posts in the facebook_posts don't have any \"Likes\".\n",
        "* eval() converts correctly formatted string to dict"
      ],
      "metadata": {
        "id": "0u9Jnbl3UoL-"
      }
    },
    {
      "cell_type": "code",
      "source": [
        "facebook_posts = eval(input())\n",
        "\n",
        "total_likes = 0\n",
        "# Catching the KeyError exception in the dictionary\n",
        "for post in facebook_posts:\n",
        "  try:\n",
        "    total_likes = total_likes + post['Likes']\n",
        "  except KeyError:\n",
        "    pass\n",
        "\n",
        "print(total_likes)"
      ],
      "metadata": {
        "colab": {
          "base_uri": "https://localhost:8080/"
        },
        "id": "dZo7oDC9Utm0",
        "outputId": "5cc07f4d-91ec-4508-e465-9047641c215b"
      },
      "execution_count": null,
      "outputs": [
        {
          "output_type": "stream",
          "name": "stdout",
          "text": [
            "[{'Likes': 21, 'Comments': 2}, {'Likes': 13, 'Comments': 2, 'Shares': 1}, {'Likes': 33, 'Comments': 8, 'Shares': 3}, {'Comments': 4, 'Shares': 2},{'Comments': 1, 'Shares': 1}, {'Likes': 19, 'Comments': 3}]\n",
            "86\n"
          ]
        }
      ]
    }
  ]
}