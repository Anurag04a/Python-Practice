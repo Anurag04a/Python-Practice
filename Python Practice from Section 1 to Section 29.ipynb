{
  "nbformat": 4,
  "nbformat_minor": 0,
  "metadata": {
    "colab": {
      "provenance": [],
      "toc_visible": true
    },
    "kernelspec": {
      "name": "python3",
      "display_name": "Python 3"
    },
    "language_info": {
      "name": "python"
    }
  },
  "cells": [
    {
      "cell_type": "markdown",
      "source": [
        "#Date: 11oct.2023"
      ],
      "metadata": {
        "id": "IycrMhrmxKpZ"
      }
    },
    {
      "cell_type": "markdown",
      "source": [
        "##**Section-1: Working With Variables**"
      ],
      "metadata": {
        "id": "Ip2eLcwUxgiT"
      }
    },
    {
      "cell_type": "markdown",
      "source": [
        "###1.Printing Hello World"
      ],
      "metadata": {
        "id": "o2JtVHnZxz7T"
      }
    },
    {
      "cell_type": "code",
      "execution_count": null,
      "metadata": {
        "colab": {
          "base_uri": "https://localhost:8080/"
        },
        "id": "los6M-lWh9NG",
        "outputId": "5804ebad-0ee2-421b-f1ac-dd337edb371c"
      },
      "outputs": [
        {
          "output_type": "stream",
          "name": "stdout",
          "text": [
            "Hello World\n"
          ]
        }
      ],
      "source": [
        "print(\"Hello World\")"
      ]
    },
    {
      "cell_type": "markdown",
      "source": [
        "###2.Print\n",
        "Write a program in main.py that prints some notes on Python programming into the Output console.\n",
        "\n",
        "Warning: The output in your program should match the example output shown below exactly, character for character, even spaces and symbols should be identical, otherwise the tests won't pass.\n",
        "\n",
        "Example Output\n",
        "After you have written your code, you should run your program and it should print the following:\n",
        "\n",
        "Day 1 - Python Print Function\n",
        "\n",
        "The function is declared like this:\n",
        "\n",
        "print('what to print')"
      ],
      "metadata": {
        "id": "peKBoniPyC3T"
      }
    },
    {
      "cell_type": "code",
      "source": [
        "print(\"Day 1 - Python Print Function\")\n",
        "print(\"The function is declared like this:\")\n",
        "print(\"print('what to print')\")"
      ],
      "metadata": {
        "colab": {
          "base_uri": "https://localhost:8080/"
        },
        "id": "9bEcHPxc1L1H",
        "outputId": "fe8759df-0720-45fb-84d6-16f823868099"
      },
      "execution_count": null,
      "outputs": [
        {
          "output_type": "stream",
          "name": "stdout",
          "text": [
            "Day 1 - Python Print Function\n",
            "The function is declared like this:\n",
            "print('what to print')\n"
          ]
        }
      ]
    },
    {
      "cell_type": "markdown",
      "source": [
        "###3.Output\n",
        "When you run your program, it should print the following:\n",
        "\n",
        "Day 1 - String Manipulation\n",
        "\n",
        "String Concatenation is done with the \"+\" sign.\n",
        "\n",
        "e.g. print(\"Hello \" + \"world\")\n",
        "\n",
        "New lines can be created with a backslash and n."
      ],
      "metadata": {
        "id": "cmHISL5s6DrG"
      }
    },
    {
      "cell_type": "code",
      "source": [
        "print(\"Day 1 - String Manipulation\")\n",
        "print('String Concatenation is done with the \"+\" sign.')\n",
        "print('e.g. print(\"Hello \" + \"world\")')\n",
        "print(\"New lines can be created with a backslash and n.\")"
      ],
      "metadata": {
        "colab": {
          "base_uri": "https://localhost:8080/"
        },
        "id": "GxtzZRCt6FVh",
        "outputId": "2e178e93-42e8-495a-bc90-4f7e040c669d"
      },
      "execution_count": null,
      "outputs": [
        {
          "output_type": "stream",
          "name": "stdout",
          "text": [
            "Day 1 - String Manipulation\n",
            "String Concatenation is done with the \"+\" sign.\n",
            "e.g. print(\"Hello \" + \"world\")\n",
            "New lines can be created with a backslash and n.\n"
          ]
        }
      ]
    },
    {
      "cell_type": "markdown",
      "source": [
        "###4.Taking from user\n",
        "\n",
        "Write a program that prints the number of characters in a name."
      ],
      "metadata": {
        "id": "0C2eNrKOAFNQ"
      }
    },
    {
      "cell_type": "code",
      "source": [
        "length = len(input())\n",
        "print(length)"
      ],
      "metadata": {
        "colab": {
          "base_uri": "https://localhost:8080/"
        },
        "id": "gove43oNAUXz",
        "outputId": "148ebbaa-b748-4765-83e1-daf64aa89ee9"
      },
      "execution_count": null,
      "outputs": [
        {
          "output_type": "stream",
          "name": "stdout",
          "text": [
            "Anurag\n",
            "6\n"
          ]
        }
      ]
    },
    {
      "cell_type": "markdown",
      "source": [
        "###5.Variable\n",
        "This program takes two inputs. The first input is stored in a variable called a. The second input is stored in a variable called b.\n",
        "\n",
        "Write a program that switches the values stored in the variables a and b."
      ],
      "metadata": {
        "id": "N21y2Q82Ejnu"
      }
    },
    {
      "cell_type": "code",
      "source": [
        "# There are two variables, a and b from input\n",
        "a = input()\n",
        "b = input()\n",
        "# 🚨 Don't change the code above ☝️\n",
        "####################################\n",
        "# Write your code below this line 👇\n",
        "\n",
        "temp = a\n",
        "a = b\n",
        "b = temp\n",
        "\n",
        "\n",
        "# Write your code above this line ☝️\n",
        "print(\"a: \" + a)\n",
        "print(\"b: \" + b)"
      ],
      "metadata": {
        "colab": {
          "base_uri": "https://localhost:8080/"
        },
        "id": "XNq3Y_aoEouq",
        "outputId": "f37d16a8-9f26-4189-8f2f-9f16e3242d27"
      },
      "execution_count": null,
      "outputs": [
        {
          "output_type": "stream",
          "name": "stdout",
          "text": [
            "78\n",
            "45\n",
            "a: 45\n",
            "b: 78\n",
            "67\n",
            "67\n",
            "a: 67\n",
            "b: 67\n"
          ]
        }
      ]
    },
    {
      "cell_type": "markdown",
      "source": [
        "###6.Create a greeting for your program."
      ],
      "metadata": {
        "id": "iw6K_bhJMWe2"
      }
    },
    {
      "cell_type": "code",
      "source": [
        "print(\"Welcome to DevOps Training.\")"
      ],
      "metadata": {
        "colab": {
          "base_uri": "https://localhost:8080/"
        },
        "id": "5UdYCMX2Mkws",
        "outputId": "511ceac2-515e-45a8-c40a-23c33ed16f04"
      },
      "execution_count": null,
      "outputs": [
        {
          "output_type": "stream",
          "name": "stdout",
          "text": [
            "Welcome to DevOps Training.\n"
          ]
        }
      ]
    },
    {
      "cell_type": "markdown",
      "source": [
        "###7.Practice\n",
        "Ask the user for the city that they grew up in.\n",
        "\n",
        "Ask the user for the name of a pet.\n",
        "\n",
        "Combine the name of their city and pet and show them their band name.\n",
        "\n",
        "Make sure the input cursor shows on a new line:"
      ],
      "metadata": {
        "id": "jdQKTXjzM9Au"
      }
    },
    {
      "cell_type": "code",
      "source": [
        "street = input(\"What's the name of the city you grew up in?\\n\")\n",
        "pet = input(\"What's your pet's name?\\n\")\n",
        "print(\"Your band name could be \" + street + \" \" + pet)"
      ],
      "metadata": {
        "colab": {
          "base_uri": "https://localhost:8080/"
        },
        "id": "Lja7C1wCNE-C",
        "outputId": "61f7cd66-fb5a-4a64-e946-b9057f77d969"
      },
      "execution_count": null,
      "outputs": [
        {
          "output_type": "stream",
          "name": "stdout",
          "text": [
            "What's the name of the city you grew up in?\n",
            "Sitamarhi\n",
            "What's your pet's name?\n",
            "Rushi\n",
            "Your band name could be Sitamarhi Rushi\n"
          ]
        }
      ]
    },
    {
      "cell_type": "markdown",
      "source": [
        "##**Section-2: Data types and String manipulation**"
      ],
      "metadata": {
        "id": "WtzhJUuBN2Yk"
      }
    },
    {
      "cell_type": "markdown",
      "source": [
        "String\n",
        "\n",
        "Numeric Types:\tint, float, complex\n",
        "\n",
        "list, tuple, Dictionary\n",
        "\n",
        "Boolean Type:\tbool"
      ],
      "metadata": {
        "id": "PR6gQc87fh0k"
      }
    },
    {
      "cell_type": "markdown",
      "source": [
        "###8.Problem\n",
        "Write a program that adds the digits in a 2 digit number. e.g. if the input was 35, then the output should be 3 + 5 = 8"
      ],
      "metadata": {
        "id": "jvgYECc0hZMJ"
      }
    },
    {
      "cell_type": "code",
      "source": [
        "two_digit_number = input()\n",
        "# 🚨 Don't change the code above 👆\n",
        "####################################\n",
        "# Write your code below this line 👇\n",
        "num1 = int(two_digit_number[0])\n",
        "num2 = int(two_digit_number[1])\n",
        "sum = num1 + num2\n",
        "print(sum)"
      ],
      "metadata": {
        "colab": {
          "base_uri": "https://localhost:8080/"
        },
        "id": "7ZRKleN3hd3l",
        "outputId": "f832b7a4-f6f8-49ef-c766-fa64d0f6b727"
      },
      "execution_count": null,
      "outputs": [
        {
          "output_type": "stream",
          "name": "stdout",
          "text": [
            "12\n",
            "3\n"
          ]
        }
      ]
    },
    {
      "cell_type": "markdown",
      "source": [
        "###9.Problem"
      ],
      "metadata": {
        "id": "7ZnzTGMBiumO"
      }
    },
    {
      "cell_type": "markdown",
      "source": [
        "Write a program that calculates the Body Mass Index (BMI) from a user's weight and height."
      ],
      "metadata": {
        "id": "lM0lZsGPpGUg"
      }
    },
    {
      "cell_type": "code",
      "source": [
        "# 1st input: enter height in meters e.g: 1.65\n",
        "height = input()\n",
        "# 2nd input: enter weight in kilograms e.g: 72\n",
        "weight = input()\n",
        "# 🚨 Don't change the code above 👆\n",
        "\n",
        "# Write your code below this line 👇\n",
        "w = int(weight)\n",
        "h = float(height)\n",
        "bmi = w/(h**2)\n",
        "print(int(bmi))"
      ],
      "metadata": {
        "colab": {
          "base_uri": "https://localhost:8080/"
        },
        "id": "c6esXaVDixGx",
        "outputId": "b102c918-3c1a-405e-8aec-dccde29162e5"
      },
      "execution_count": null,
      "outputs": [
        {
          "output_type": "stream",
          "name": "stdout",
          "text": [
            "1.54\n",
            "77\n",
            "32\n"
          ]
        }
      ]
    },
    {
      "cell_type": "markdown",
      "source": [
        "###10.Problem"
      ],
      "metadata": {
        "id": "SyOupGAJrMLc"
      }
    },
    {
      "cell_type": "markdown",
      "source": [
        "Create a program using maths and f-Strings that tells us how many weeks we have left, if we live until 90 years old."
      ],
      "metadata": {
        "id": "XWe6edLCpeGC"
      }
    },
    {
      "cell_type": "code",
      "source": [
        "age = input()\n",
        "# 🚨 Don't change the code above 👆\n",
        "# Write your code below this line 👇\n",
        "age = int(age)\n",
        "left_age = 90-age\n",
        "left_week = left_age*52\n",
        "print(f\"You have {left_week} weeks left.\")"
      ],
      "metadata": {
        "colab": {
          "base_uri": "https://localhost:8080/"
        },
        "id": "U3ZHvl2mrPnh",
        "outputId": "737ca062-8a52-4a45-ff4a-1f32ffe67a1a"
      },
      "execution_count": null,
      "outputs": [
        {
          "output_type": "stream",
          "name": "stdout",
          "text": [
            "76\n",
            "You have 728 weeks left.\n"
          ]
        }
      ]
    },
    {
      "cell_type": "markdown",
      "source": [
        "###11.Problem"
      ],
      "metadata": {
        "id": "sNJJyVk5r6ou"
      }
    },
    {
      "cell_type": "markdown",
      "source": [
        "If the bill was $150.00, split between 5 people, with 12% tip.\n",
        "\n",
        "Each person should pay (150.00 / 5) * 1.12 = 33.6\n",
        "Format the result to 2 decimal places = 33.60\n",
        "\n",
        "Tip: There are 2 ways to round a number. You might have to do some Googling to solve this.💪\n",
        "\n",
        "Write your code below this line 👇"
      ],
      "metadata": {
        "id": "lL3s_cu4tx6g"
      }
    },
    {
      "cell_type": "code",
      "source": [
        "print(\"Welcome to the tip calculator!\")\n",
        "bill = float(input(\"What was the total bill? $\"))\n",
        "tip = int(input(\"How much tip would you like to give? 10, 12, or 15? \"))\n",
        "people = int(input(\"How many people to split the bill?\"))\n",
        "\n",
        "tip_as_percent = tip / 100\n",
        "total_tip_amount = bill * tip_as_percent\n",
        "total_bill = bill + total_tip_amount\n",
        "bill_per_person = total_bill / people\n",
        "final_amount = round(bill_per_person, 2)\n",
        "print(f\"Each person should pay: ${final_amount}\")"
      ],
      "metadata": {
        "colab": {
          "base_uri": "https://localhost:8080/"
        },
        "id": "VD_jK8Z3uDlj",
        "outputId": "00329f55-0988-4831-9fca-9d7c1b2a81dd"
      },
      "execution_count": null,
      "outputs": [
        {
          "output_type": "stream",
          "name": "stdout",
          "text": [
            "Welcome to the tip calculator!\n",
            "What was the total bill? $148\n",
            "How much tip would you like to give? 10, 12, or 15? 12\n",
            "How many people to split the bill?6\n",
            "Each person should pay: $27.63\n"
          ]
        }
      ]
    },
    {
      "cell_type": "markdown",
      "source": [
        "##Section-3: Control Flow and Logical Operator"
      ],
      "metadata": {
        "id": "7t267JEI-TTv"
      }
    },
    {
      "cell_type": "markdown",
      "source": [
        "###12.Problem"
      ],
      "metadata": {
        "id": "nnL7I270-cU2"
      }
    },
    {
      "cell_type": "markdown",
      "source": [
        "Write a program that works out whether if a given number is an odd or even number."
      ],
      "metadata": {
        "id": "q7FL-IXCFFS5"
      }
    },
    {
      "cell_type": "code",
      "source": [
        "# Which number do you want to check?\n",
        "number = int(input())\n",
        "# 🚨 Don't change the code above 👆\n",
        "\n",
        "# Write your code below this line 👇\n",
        "if number%2==0:\n",
        "  print(\"This is an even number.\")\n",
        "else:\n",
        "  print(\"This is an odd number.\")\n"
      ],
      "metadata": {
        "colab": {
          "base_uri": "https://localhost:8080/"
        },
        "id": "bz09Fr12FGWH",
        "outputId": "2b9bc0a8-dad5-44f5-df47-f68e7f46c2e2"
      },
      "execution_count": null,
      "outputs": [
        {
          "output_type": "stream",
          "name": "stdout",
          "text": [
            "24\n",
            "This is an even number.\n"
          ]
        }
      ]
    },
    {
      "cell_type": "markdown",
      "source": [
        "###13.Problem"
      ],
      "metadata": {
        "id": "Q1ucHVW5HkuB"
      }
    },
    {
      "cell_type": "markdown",
      "source": [
        "Write a program that interprets the Body Mass Index (BMI) based on a user's weight and height.\n",
        "\n",
        "It should tell them the interpretation of their BMI based on the BMI value.\n",
        "\n",
        "Under 18.5 they are underweight\n",
        "\n",
        "Over 18.5 but below 25 they have a normal weight\n",
        "\n",
        "Equal to or over 25 but below 30 they are slightly overweight\n",
        "\n",
        "Equal to or over 30 but below 35 they are obese\n",
        "\n",
        "Equal to or over 35 they are clinically obese."
      ],
      "metadata": {
        "id": "lVz24Q1yHoOZ"
      }
    },
    {
      "cell_type": "code",
      "source": [
        "# Enter your height in meters e.g., 1.55\n",
        "height = float(input())\n",
        "# Enter your weight in kilograms e.g., 72\n",
        "weight = int(input())\n",
        "# 🚨 Don't change the code above 👆\n",
        "\n",
        "#Write your code below this line 👇\n",
        "bmi = weight/(height**2)\n",
        "if bmi<18.5:\n",
        "  print(f\"Your BMI is {bmi}, you are underweight.\")\n",
        "elif 18.5<=bmi and bmi<25:\n",
        "  print(f\"Your BMI is {bmi}, you have a normal weight.\")\n",
        "elif 25<=bmi and bmi<30:\n",
        "  print(f\"Your BMI is {bmi}, you are slightly overweight.\")\n",
        "elif bmi>=30 and bmi<35:\n",
        "  print(f\"Your BMI is {bmi}, you are obese.\")\n",
        "else:\n",
        "  print(f\"Your BMI is {bmi}, you are clinically obese.\")\n"
      ],
      "metadata": {
        "colab": {
          "base_uri": "https://localhost:8080/"
        },
        "id": "3x6nRAftHtQn",
        "outputId": "c975b03b-2a60-4d19-e66e-cd5cf2e5fb16"
      },
      "execution_count": null,
      "outputs": [
        {
          "output_type": "stream",
          "name": "stdout",
          "text": [
            "25\n",
            "40\n",
            "Your BMI is 0.064, you are underweight.\n"
          ]
        }
      ]
    },
    {
      "cell_type": "markdown",
      "source": [
        "###14.Problem"
      ],
      "metadata": {
        "id": "unEZlkm6H2s1"
      }
    },
    {
      "cell_type": "markdown",
      "source": [
        "Write a program that works out whether if a given year is a leap year. A normal year has 365 days, leap years have 366, with an extra day in February."
      ],
      "metadata": {
        "id": "qoGRHfnIJQrn"
      }
    },
    {
      "cell_type": "code",
      "source": [
        "# Which year do you want to check?\n",
        "year = int(input())\n",
        "# 🚨 Don't change the code above 👆\n",
        "\n",
        "# Write your code below this line 👇\n",
        "if year%4==0:\n",
        "  if year%100==0:\n",
        "    if year%400==0:\n",
        "      print(\"Leap year\")\n",
        "    else:\n",
        "      print(\"Not leap year\")\n",
        "  else:\n",
        "    print(\"Leap year\")\n",
        "else:\n",
        "  print(\"Not leap year\")"
      ],
      "metadata": {
        "colab": {
          "base_uri": "https://localhost:8080/"
        },
        "id": "5LMceTDgJRLi",
        "outputId": "b3238770-ae51-419c-bdb9-7ff21d71e923"
      },
      "execution_count": null,
      "outputs": [
        {
          "output_type": "stream",
          "name": "stdout",
          "text": [
            "2000\n",
            "Leap year\n"
          ]
        }
      ]
    },
    {
      "cell_type": "markdown",
      "source": [
        "###15.Problem"
      ],
      "metadata": {
        "id": "wP7tQ_jbO7ZL"
      }
    },
    {
      "cell_type": "markdown",
      "source": [
        "Congratulations, you've got a job at Python Pizza! Your first job is to build an automatic pizza order program.\n",
        "\n",
        "Based on a user's order, work out their final bill.\n",
        "\n",
        "Small pizza (S): $15\n",
        "\n",
        "Medium pizza (M): $20\n",
        "\n",
        "Large pizza (L): $25\n",
        "\n",
        "\n",
        "Add pepperoni for small pizza (Y or N): +$2\n",
        "\n",
        "Add pepperoni for medium or large pizza (Y or N): +$3\n",
        "\n",
        "Add extra cheese for any size pizza (Y or N): +$1\n",
        "\n",
        "Example Input\n",
        "\n",
        "L\n",
        "\n",
        "Y\n",
        "\n",
        "N\n",
        "\n",
        "Example Output\n",
        "\n",
        "Thank you for choosing Python Pizza Deliveries!\n",
        "Your final bill is: $28."
      ],
      "metadata": {
        "id": "SPr6cu1MO92Z"
      }
    },
    {
      "cell_type": "code",
      "source": [
        "print(\"Thank you for choosing Python Pizza Deliveries!\")\n",
        "size = input() # What size pizza do you want? S, M, or L\n",
        "add_pepperoni = input() # Do you want pepperoni? Y or N\n",
        "extra_cheese = input() # Do you want extra cheese? Y or N\n",
        "# 🚨 Don't change the code above 👆\n",
        "# Write your code below this line 👇\n",
        "if size == \"L\":\n",
        "  if add_pepperoni == \"Y\":\n",
        "    if extra_cheese == \"Y\":\n",
        "      sum = 25+3+1\n",
        "      print(f\"Your final bill is: ${sum}.\")\n",
        "    else:\n",
        "      sum = 25+3\n",
        "      print(f\"Your final bill is: ${sum}.\")\n",
        "  else:\n",
        "    if extra_cheese == \"Y\":\n",
        "      sum = 25+1\n",
        "      print(f\"Your final bill is: ${sum}.\")\n",
        "    else:\n",
        "      sum = 25\n",
        "      print(f\"Your final bill is: ${sum}.\")\n",
        "\n",
        "elif size == \"M\":\n",
        "  if add_pepperoni == \"Y\":\n",
        "    if extra_cheese == \"Y\":\n",
        "      sum = 20+3+1\n",
        "      print(f\"Your final bill is: ${sum}.\")\n",
        "    else:\n",
        "      sum = 20+3\n",
        "      print(f\"Your final bill is: ${sum}.\")\n",
        "  else:\n",
        "    if extra_cheese == \"Y\":\n",
        "      sum = 20+1\n",
        "      print(f\"Your final bill is: ${sum}.\")\n",
        "    else:\n",
        "      sum = 20\n",
        "      print(f\"Your final bill is: ${sum}.\")\n",
        "\n",
        "elif size == \"S\":\n",
        "  if add_pepperoni == \"Y\":\n",
        "    if extra_cheese == \"Y\":\n",
        "      sum = 15+2+1\n",
        "      print(f\"Your final bill is: ${sum}.\")\n",
        "    else:\n",
        "      sum = 15+2\n",
        "      print(f\"Your final bill is: ${sum}.\")\n",
        "  else:\n",
        "    if extra_cheese == \"Y\":\n",
        "      sum = 15+1\n",
        "      print(f\"Your final bill is: ${sum}.\")\n",
        "    else:\n",
        "      sum = 15\n",
        "      print(f\"Your final bill is: ${sum}.\")"
      ],
      "metadata": {
        "colab": {
          "base_uri": "https://localhost:8080/"
        },
        "id": "R93Xsj0FPNe3",
        "outputId": "0af91402-6fb1-4297-8d10-8dbf670593eb"
      },
      "execution_count": null,
      "outputs": [
        {
          "output_type": "stream",
          "name": "stdout",
          "text": [
            "Thank you for choosing Python Pizza Deliveries!\n",
            "L\n",
            "Y\n",
            "N\n",
            "Your final bill is: $28.\n"
          ]
        }
      ]
    },
    {
      "cell_type": "markdown",
      "source": [
        "###16.Problem"
      ],
      "metadata": {
        "id": "1ukfx3RMUvyF"
      }
    },
    {
      "cell_type": "markdown",
      "source": [
        "💪 This is a difficult challenge! 💪\n",
        "You are going to write a program that tests the compatibility between two people.\n",
        "\n",
        "To work out the love score between two people:\n",
        "\n",
        "Take both people's names and check for the number of times the letters in the word TRUE occurs.\n",
        "\n",
        "Then check for the number of times the letters in the word LOVE occurs.\n",
        "\n",
        "Then combine these numbers to make a 2 digit number.\n",
        "\n",
        "For Love Scores less than 10 or greater than 90, the message should be:\n",
        "\n",
        "\"Your score is *x*, you go together like coke and mentos.\"\n",
        "For Love Scores between 40 and 50, the message should be:\n",
        "\n",
        "\"Your score is *y*, you are alright together.\"\n",
        "Otherwise, the message will just be their score. e.g.:\n",
        "\n",
        "\"Your score is *z*.\"\n",
        "e.g.\n",
        "\n",
        "name1 = \"Angela Yu\"\n",
        "name2 = \"Jack Bauer\"\n",
        "T occurs 0 times\n",
        "\n",
        "R occurs 1 time\n",
        "\n",
        "U occurs 2 times\n",
        "\n",
        "E occurs 2 times\n",
        "\n",
        "Total = 5\n",
        "\n",
        "L occurs 1 time\n",
        "\n",
        "O occurs 0 times\n",
        "\n",
        "V occurs 0 times\n",
        "\n",
        "E occurs 2 times\n",
        "\n",
        "Total = 3\n",
        "\n",
        "Love Score = 53\n",
        "\n",
        "Print: \"Your score is 53.\"\n",
        "\n",
        "Example Input 1\n",
        "\n",
        "Kanye West\n",
        "\n",
        "Kim Kardashian\n",
        "\n",
        "Example Output 1\n",
        "\n",
        "The Love Calculator is calculating your score...\n",
        "\n",
        "Your score is 42, you are alright together.\n",
        "\n",
        "Example Input 2\n",
        "\n",
        "Brad Pitt\n",
        "\n",
        "Jennifer Aniston\n",
        "\n",
        "Example Output 2\n",
        "\n",
        "The Love Calculator is calculating your score...\n",
        "Your score is 73.\n"
      ],
      "metadata": {
        "id": "l4bwqcGdUz4m"
      }
    },
    {
      "cell_type": "code",
      "source": [
        "print(\"The Love Calculator is calculating your score...\")\n",
        "name1 = input() # What is your name?\n",
        "name2 = input() # What is their name?\n",
        "# 🚨 Don't change the code above 👆\n",
        "# Write your code below this line 👇\n",
        "name1 = name1.upper()\n",
        "name2 = name2.upper()\n",
        "score1=name1.count(\"T\")+name1.count(\"R\")+name1.count(\"U\")+name1.count(\"E\")+name2.count(\"T\")+name2.count(\"R\")+name2.count(\"U\")+name2.count(\"E\")\n",
        "score2=name2.count(\"L\")+name2.count(\"O\")+name2.count(\"V\")+name2.count(\"E\")+name1.count(\"L\")+name1.count(\"O\")+name1.count(\"V\")+name1.count(\"E\")\n",
        "\n",
        "score = int(str(score1)+str(score2))\n",
        "if score<=10 or score>=90:\n",
        "  print(f\"Your score is {score}, you go together like coke and mentos.\")\n",
        "elif 40<=score<=50:\n",
        "  print(f\"Your score is {score}, you are alright together.\")\n",
        "else:\n",
        "  print(f\"Your score is {score}.\")"
      ],
      "metadata": {
        "colab": {
          "base_uri": "https://localhost:8080/"
        },
        "id": "Or_JbbnYU0U6",
        "outputId": "666b29c9-c430-486d-d505-5e26fbd2e9d9"
      },
      "execution_count": null,
      "outputs": [
        {
          "output_type": "stream",
          "name": "stdout",
          "text": [
            "The Love Calculator is calculating your score...\n",
            "Anurag\n",
            "Anurag\n",
            "Your score is 40, you are alright together.\n"
          ]
        }
      ]
    },
    {
      "cell_type": "markdown",
      "source": [
        "#Date: 13oct.2023"
      ],
      "metadata": {
        "id": "l2DYKKssVXP2"
      }
    },
    {
      "cell_type": "markdown",
      "source": [
        "##**Section-4: List**"
      ],
      "metadata": {
        "id": "0SN2kjuslUCi"
      }
    },
    {
      "cell_type": "markdown",
      "source": [
        "###17.Problem"
      ],
      "metadata": {
        "id": "LHVI3h3NlcIa"
      }
    },
    {
      "cell_type": "markdown",
      "source": [
        "You are going to write a virtual coin toss program. It will randomly tell the user \"Heads\" or \"Tails\"."
      ],
      "metadata": {
        "id": "tprFvhBrmN-w"
      }
    },
    {
      "cell_type": "code",
      "source": [
        "import random\n",
        "num = random.randint(0,1)\n",
        "if num==1:\n",
        "  print(\"Heads\")\n",
        "else:\n",
        "  print(\"Tails\")"
      ],
      "metadata": {
        "colab": {
          "base_uri": "https://localhost:8080/"
        },
        "id": "v2Vl5QjgmKHL",
        "outputId": "e70d354a-67bc-429d-ac76-2d282e6fca70"
      },
      "execution_count": null,
      "outputs": [
        {
          "output_type": "stream",
          "name": "stdout",
          "text": [
            "Tails\n"
          ]
        }
      ]
    },
    {
      "cell_type": "markdown",
      "source": [
        "###18.Problem"
      ],
      "metadata": {
        "id": "GEIZuRA4m2qK"
      }
    },
    {
      "cell_type": "markdown",
      "source": [
        "You are going to write a program that will select a random name from a list of names. The person selected will have to pay for everybody's food bill."
      ],
      "metadata": {
        "id": "cekjclnem7HT"
      }
    },
    {
      "cell_type": "code",
      "source": [
        "names_string = input()\n",
        "names = names_string.split(\", \")\n",
        "# The code above converts the input into an array seperating\n",
        "#each name in the input by a comma and space.\n",
        "# 🚨 Don't change the code above 👆\n",
        "import random\n",
        "n = len(names)\n",
        "num = random.randint(0,n-1)\n",
        "print(names[num]+\" is going to buy the meal today!\")"
      ],
      "metadata": {
        "colab": {
          "base_uri": "https://localhost:8080/"
        },
        "id": "WVaWsp0hnE5z",
        "outputId": "57894746-5b21-4eb5-bff0-16df929f017a"
      },
      "execution_count": null,
      "outputs": [
        {
          "output_type": "stream",
          "name": "stdout",
          "text": [
            "Anurag, Rushabh, Anuj, Aaryan\n",
            "Aaryan is going to buy the meal today!\n"
          ]
        }
      ]
    },
    {
      "cell_type": "markdown",
      "source": [
        "###19.Problem"
      ],
      "metadata": {
        "id": "WHQiz7O6oEnC"
      }
    },
    {
      "cell_type": "markdown",
      "source": [
        "This is a difficult challenge. 💪\n",
        "\n",
        "You are going to write a program that will mark a spot on a map with an X.\n",
        "\n",
        "In the starting code, you will find a variable called map.\n",
        "\n",
        "This map contains a nested list. When map is printed this is what it looks like, notice the nesting:\n",
        "\n",
        "[['⬜️', '⬜️', '⬜️'],['⬜️', '⬜️', '⬜️'],['⬜️', '⬜️', '⬜️']]\n",
        "\n",
        "This is a bit hard to work with. So on lines 6 and 23, we've used this line of code print(f\"{row1}\\n{row2}\\n{row3}\") to format the 3 lists to be printed as a 3 by 3 grid, each on a new line.\n",
        "\n",
        "['⬜️', '⬜️', '⬜️']\n",
        "\n",
        "['⬜️', '⬜️', '⬜️']\n",
        "\n",
        "['⬜️', '⬜️', '⬜️']\n",
        "\n",
        "Now it looks a bit more like the coordinates of a real map:\n",
        "\n",
        "**Map Coordinates Example**\n",
        "\n",
        "Your job is to write a program that allows you to mark a square on the map using a letter-number system.\n",
        "\n",
        "**List coordinates**\n",
        "\n",
        "So an input of A3 should place an X at the position shown below:\n",
        "\n",
        "Exmaple location\n",
        "\n",
        "First, your program must take the user input and convert it to a usable format.\n",
        "\n",
        "Next, you need to use that input to update your nested list with an \"X\". Remember that your nested list map actually looks like this:\n",
        "\n",
        "[['⬜️', '⬜️', '⬜️'],['⬜️', '⬜️', '⬜️'],['⬜️', '⬜️', '⬜️']]\n",
        "\n",
        "Example Input 1\n",
        "\n",
        "B3\n",
        "\n",
        "Example Output 1\n",
        "\n",
        "Hiding your treasure! X marks the spot.\n",
        "['⬜️', '️⬜️', '️⬜️']\n",
        "\n",
        "['⬜️', '⬜️', '️⬜️']\n",
        "\n",
        "['⬜️️', 'X', '⬜️️']\n",
        "\n",
        "Example Input 2\n",
        "B1\n",
        "Example Output 2\n",
        "Hiding your treasure! X marks the spot.\n",
        "\n",
        "['⬜️', 'X', '️⬜️']\n",
        "\n",
        "['⬜️', '⬜️', '️⬜️']\n",
        "\n",
        "['⬜️️', '⬜️️', '⬜️️']\n",
        "\n",
        "Remember that nested Lists in Python are accessed from outside to inside. e.g. In the List below:\n",
        "\n",
        "list = [['A', 'B, 'C'], 'E', 'F', 'G']\n",
        "\n",
        "E is list[1] C is list[0][2]\n",
        "\n",
        "Check your formatting. This is correctly formatted:\n",
        "\n",
        "['⬜️', '⬜️', '⬜️']\n",
        "\n",
        "['⬜️', '⬜️', '⬜️']\n",
        "\n",
        "['⬜️', 'X', '⬜️']\n",
        "\n",
        "vs.\n",
        "\n",
        "Incorrectly formatted (missing a space before 'X and extra space after the X and extra space before the comma):\n",
        "\n",
        "['⬜️', '⬜️', '⬜️']\n",
        "\n",
        "['⬜️', '⬜️', '⬜️']\n",
        "\n",
        "['⬜️','X ' , '⬜️']"
      ],
      "metadata": {
        "id": "7JuPIF2SoLNQ"
      }
    },
    {
      "cell_type": "code",
      "source": [
        "line1 = [\"⬜️\",\"️⬜️\",\"️⬜️\"]\n",
        "line2 = [\"⬜️\",\"⬜️\",\"️⬜️\"]\n",
        "line3 = [\"⬜️️\",\"⬜️️\",\"⬜️️\"]\n",
        "map = [line1, line2, line3]\n",
        "print(\"Hiding your treasure! X marks the spot.\")\n",
        "position = input() # Where do you want to put the treasure?\n",
        "# 🚨 Don't change the code above 👆\n",
        "# Write your code below this row 👇\n",
        "a= position[0]\n",
        "b = int(position[1])\n",
        "if a==\"A\":\n",
        "  a=0\n",
        "  map[b-1][a]=\"X\"\n",
        "elif a ==\"B\":\n",
        "  a=1\n",
        "  map[b-1][a]=\"X\"\n",
        "else:\n",
        "  a=2\n",
        "  map[b-1][a]=\"X\"\n",
        "\n",
        "# Write your code above this row 👆\n",
        "# 🚨 Don't change the code below 👇\n",
        "print(f\"{line1}\\n{line2}\\n{line3}\")"
      ],
      "metadata": {
        "colab": {
          "base_uri": "https://localhost:8080/"
        },
        "id": "ZM6WiJ-hsjy8",
        "outputId": "f8921a64-7ac0-43bc-fa6b-44549c3028bd"
      },
      "execution_count": null,
      "outputs": [
        {
          "output_type": "stream",
          "name": "stdout",
          "text": [
            "Hiding your treasure! X marks the spot.\n",
            "A3\n",
            "['⬜️', '️⬜️', '️⬜️']\n",
            "['⬜️', '⬜️', '️⬜️']\n",
            "['X', '⬜️️', '⬜️️']\n"
          ]
        }
      ]
    },
    {
      "cell_type": "markdown",
      "source": [
        "###20.Problem. Rock Paper scissors"
      ],
      "metadata": {
        "id": "wF7OW2GMsx1H"
      }
    },
    {
      "cell_type": "code",
      "source": [
        "import random\n",
        "\n",
        "rock = '''\n",
        "    _______\n",
        "---'   ____)\n",
        "      (_____)\n",
        "      (_____)\n",
        "      (____)\n",
        "---.__(___)\n",
        "'''\n",
        "\n",
        "paper = '''\n",
        "    _______\n",
        "---'   ____)____\n",
        "          ______)\n",
        "          _______)\n",
        "         _______)\n",
        "---.__________)\n",
        "'''\n",
        "\n",
        "scissors = '''\n",
        "    _______\n",
        "---'   ____)____\n",
        "          ______)\n",
        "       __________)\n",
        "      (____)\n",
        "---.__(___)\n",
        "'''\n",
        "\n",
        "game_images = [rock, paper, scissors]\n",
        "\n",
        "user_choice = int(input(\"What do you choose? Type 0 for Rock, 1 for Paper or 2 for Scissors.\\n\"))\n",
        "print(game_images[user_choice])\n",
        "\n",
        "computer_choice = random.randint(0, 2)\n",
        "print(\"Computer chose:\")\n",
        "print(game_images[computer_choice])\n",
        "\n",
        "if user_choice >= 3 or user_choice < 0:\n",
        "  print(\"You typed an invalid number, you lose!\")\n",
        "elif user_choice == 0 and computer_choice == 2:\n",
        "  print(\"You win!\")\n",
        "elif computer_choice == 0 and user_choice == 2:\n",
        "  print(\"You lose\")\n",
        "elif computer_choice > user_choice:\n",
        "  print(\"You lose\")\n",
        "elif user_choice > computer_choice:\n",
        "  print(\"You win!\")\n",
        "elif computer_choice == user_choice:\n",
        "  print(\"It's a draw\")"
      ],
      "metadata": {
        "colab": {
          "base_uri": "https://localhost:8080/"
        },
        "id": "ye9BDBA2uVQv",
        "outputId": "bb110326-443e-416d-e7fd-86c2737f35ec"
      },
      "execution_count": null,
      "outputs": [
        {
          "output_type": "stream",
          "name": "stdout",
          "text": [
            "What do you choose? Type 0 for Rock, 1 for Paper or 2 for Scissors.\n",
            "2\n",
            "\n",
            "    _______\n",
            "---'   ____)____\n",
            "          ______)\n",
            "       __________)\n",
            "      (____)\n",
            "---.__(___)\n",
            "\n",
            "Computer chose:\n",
            "\n",
            "    _______\n",
            "---'   ____)____\n",
            "          ______)\n",
            "       __________)\n",
            "      (____)\n",
            "---.__(___)\n",
            "\n",
            "It's a draw\n"
          ]
        }
      ]
    },
    {
      "cell_type": "markdown",
      "source": [
        "##**Section-5: Loops**"
      ],
      "metadata": {
        "id": "YVNyL5Xbu80y"
      }
    },
    {
      "cell_type": "markdown",
      "source": [
        "###21.Problem"
      ],
      "metadata": {
        "id": "99w5S7-xIUh9"
      }
    },
    {
      "cell_type": "markdown",
      "source": [
        "You are going to write a program that calculates the average student height from a List of heights"
      ],
      "metadata": {
        "id": "4j1SGjtGIypk"
      }
    },
    {
      "cell_type": "code",
      "source": [
        "# Input a Python list of student heights\n",
        "student_heights = input().split()\n",
        "for n in range(0, len(student_heights)):\n",
        "  student_heights[n] = int(student_heights[n])\n",
        "# 🚨 Don't change the code above 👆\n",
        "\n",
        "# Write your code below this row 👇\n",
        "sum = 0\n",
        "for height in student_heights:\n",
        "  sum = sum + height\n",
        "\n",
        "print(f\"total height = {sum}\")\n",
        "print(f\"number of students = {len(student_heights)}\")\n",
        "avg = int(round(sum/len(student_heights),0))\n",
        "print(f\"average height = {avg}\")\n"
      ],
      "metadata": {
        "colab": {
          "base_uri": "https://localhost:8080/"
        },
        "id": "HalvI1SII1rN",
        "outputId": "1d66865a-792f-46a3-d909-558644d2ca6b"
      },
      "execution_count": null,
      "outputs": [
        {
          "output_type": "stream",
          "name": "stdout",
          "text": [
            "24 25 67 54\n",
            "total height = 170\n",
            "number of students = 4\n",
            "average height = 42\n"
          ]
        }
      ]
    },
    {
      "cell_type": "markdown",
      "source": [
        "###22.Problem"
      ],
      "metadata": {
        "id": "oSTqOIiXLI7p"
      }
    },
    {
      "cell_type": "markdown",
      "source": [
        "You are going to write a program that calculates the highest score from a List of scores.\n",
        "\n",
        "e.g. student_scores = [78, 65, 89, 86, 55, 91, 64, 89]\n",
        "\n",
        "Important you are not allowed to use the max or min functions. The output words must match the example. i.e\n",
        "\n",
        "The highest score in the class is: x"
      ],
      "metadata": {
        "id": "Wvem0MDGLMxK"
      }
    },
    {
      "cell_type": "code",
      "source": [
        "# Input a list of student scores\n",
        "student_scores = input().split()\n",
        "for n in range(0, len(student_scores)):\n",
        "  student_scores[n] = int(student_scores[n])\n",
        "\n",
        "# Write your code below this row 👇\n",
        "highest = student_scores[0]\n",
        "for h in student_scores:\n",
        "  if h > highest:\n",
        "    highest = h\n",
        "\n",
        "print(f\"The highest score in the class is: {highest}\")\n"
      ],
      "metadata": {
        "colab": {
          "base_uri": "https://localhost:8080/"
        },
        "id": "ua4r9XRoLuAL",
        "outputId": "b0434b2c-dff3-4ffc-e7c3-2399016d2f86"
      },
      "execution_count": null,
      "outputs": [
        {
          "output_type": "stream",
          "name": "stdout",
          "text": [
            "49 50 39 40 12\n",
            "The highest score in the class is: 50\n"
          ]
        }
      ]
    },
    {
      "cell_type": "markdown",
      "source": [
        "###23.Problem"
      ],
      "metadata": {
        "id": "moUnHs8xPvX5"
      }
    },
    {
      "cell_type": "markdown",
      "source": [
        "You are going to write a program that calculates the sum of all the even numbers from 1 to X. If X is 100 then the first even number would be 2 and the last one is 100:"
      ],
      "metadata": {
        "id": "qvrTcwY0QAYK"
      }
    },
    {
      "cell_type": "code",
      "source": [
        "target = int(input()) # Enter a number between 0 and 1000\n",
        "# 🚨 Do not change the code above ☝️\n",
        "\n",
        "# Write your code here 👇\n",
        "sum = 0\n",
        "for i in range(0,target+1,2):\n",
        "  sum = sum +i\n",
        "print(sum)"
      ],
      "metadata": {
        "colab": {
          "base_uri": "https://localhost:8080/"
        },
        "id": "FG_dOhOWQNoj",
        "outputId": "be768bd8-7011-4b30-e0b1-5e587e8424f4"
      },
      "execution_count": null,
      "outputs": [
        {
          "output_type": "stream",
          "name": "stdout",
          "text": [
            "52\n",
            "702\n"
          ]
        }
      ]
    },
    {
      "cell_type": "markdown",
      "source": [
        "###24.Problem"
      ],
      "metadata": {
        "id": "yg1pIdvxRK8w"
      }
    },
    {
      "cell_type": "markdown",
      "source": [
        "You are going to write a program that automatically prints the solution to the FizzBuzz game. These are the rules of the FizzBuzz game:\n",
        "\n",
        "Your program should print each number from 1 to 100 in turn and include number 100.\n",
        "\n",
        "When the number is divisible by 3 then instead of printing the number it should print \"Fizz\".\n",
        "\n",
        "When the number is divisible by 5, then instead of printing the number it should print \"Buzz\".`\n",
        "\n",
        "And if the number is divisible by both 3 and 5 e.g. 15 then instead of the number it should print \"FizzBuzz\"\n",
        "\n",
        "e.g. it might start off like this:\n",
        "\n",
        "1\n",
        "\n",
        "2\n",
        "\n",
        "Fizz\n",
        "\n",
        "4\n",
        "\n",
        "Buzz\n",
        "\n",
        "Fizz\n",
        "\n",
        "7\n",
        "\n",
        "8\n",
        "\n",
        "Fizz\n",
        "\n",
        "Buzz\n",
        "\n",
        "11\n",
        "\n",
        "Fizz\n",
        "\n",
        "13\n",
        "\n",
        "14\n",
        "\n",
        "FizzBuzz\n",
        "\n",
        "...etc"
      ],
      "metadata": {
        "id": "ccJff_u7TUEJ"
      }
    },
    {
      "cell_type": "code",
      "source": [
        "# Write your code here 👇\n",
        "num = 100\n",
        "for i in range(1,101):\n",
        "  if i%3==0:\n",
        "    if i%5==0:\n",
        "      print(\"FizzBuzz\")\n",
        "    else:\n",
        "      print(\"Fizz\")\n",
        "  elif i%5==0:\n",
        "    print(\"Buzz\")\n",
        "  else:\n",
        "    print(i)"
      ],
      "metadata": {
        "colab": {
          "base_uri": "https://localhost:8080/"
        },
        "id": "6hoAhJ3_TUfU",
        "outputId": "c5d4dbb4-e6d4-4be9-fc16-3fe2130c4b52"
      },
      "execution_count": null,
      "outputs": [
        {
          "output_type": "stream",
          "name": "stdout",
          "text": [
            "1\n",
            "2\n",
            "Fizz\n",
            "4\n",
            "Buzz\n",
            "Fizz\n",
            "7\n",
            "8\n",
            "Fizz\n",
            "Buzz\n",
            "11\n",
            "Fizz\n",
            "13\n",
            "14\n",
            "FizzBuzz\n",
            "16\n",
            "17\n",
            "Fizz\n",
            "19\n",
            "Buzz\n",
            "Fizz\n",
            "22\n",
            "23\n",
            "Fizz\n",
            "Buzz\n",
            "26\n",
            "Fizz\n",
            "28\n",
            "29\n",
            "FizzBuzz\n",
            "31\n",
            "32\n",
            "Fizz\n",
            "34\n",
            "Buzz\n",
            "Fizz\n",
            "37\n",
            "38\n",
            "Fizz\n",
            "Buzz\n",
            "41\n",
            "Fizz\n",
            "43\n",
            "44\n",
            "FizzBuzz\n",
            "46\n",
            "47\n",
            "Fizz\n",
            "49\n",
            "Buzz\n",
            "Fizz\n",
            "52\n",
            "53\n",
            "Fizz\n",
            "Buzz\n",
            "56\n",
            "Fizz\n",
            "58\n",
            "59\n",
            "FizzBuzz\n",
            "61\n",
            "62\n",
            "Fizz\n",
            "64\n",
            "Buzz\n",
            "Fizz\n",
            "67\n",
            "68\n",
            "Fizz\n",
            "Buzz\n",
            "71\n",
            "Fizz\n",
            "73\n",
            "74\n",
            "FizzBuzz\n",
            "76\n",
            "77\n",
            "Fizz\n",
            "79\n",
            "Buzz\n",
            "Fizz\n",
            "82\n",
            "83\n",
            "Fizz\n",
            "Buzz\n",
            "86\n",
            "Fizz\n",
            "88\n",
            "89\n",
            "FizzBuzz\n",
            "91\n",
            "92\n",
            "Fizz\n",
            "94\n",
            "Buzz\n",
            "Fizz\n",
            "97\n",
            "98\n",
            "Fizz\n",
            "Buzz\n"
          ]
        }
      ]
    },
    {
      "cell_type": "markdown",
      "source": [
        "###25.Problem: Password Generator"
      ],
      "metadata": {
        "id": "fyvTOZyeT7qc"
      }
    },
    {
      "cell_type": "code",
      "source": [
        "#Password Generator Project\n",
        "import random\n",
        "letters = ['a', 'b', 'c', 'd', 'e', 'f', 'g', 'h', 'i', 'j', 'k', 'l', 'm', 'n', 'o', 'p', 'q', 'r', 's', 't', 'u', 'v', 'w', 'x', 'y', 'z', 'A', 'B', 'C', 'D', 'E', 'F', 'G', 'H', 'I', 'J', 'K', 'L', 'M', 'N', 'O', 'P', 'Q', 'R', 'S', 'T', 'U', 'V', 'W', 'X', 'Y', 'Z']\n",
        "numbers = ['0', '1', '2', '3', '4', '5', '6', '7', '8', '9']\n",
        "symbols = ['!', '#', '$', '%', '&', '(', ')', '*', '+']\n",
        "\n",
        "print(\"Welcome to the PyPassword Generator!\")\n",
        "nr_letters = int(input(\"How many letters would you like in your password?\\n\"))\n",
        "nr_symbols = int(input(f\"How many symbols would you like?\\n\"))\n",
        "nr_numbers = int(input(f\"How many numbers would you like?\\n\"))\n",
        "\n",
        "password_list = []\n",
        "\n",
        "for char in range(1, nr_letters + 1):\n",
        "  password_list.append(random.choice(letters))\n",
        "\n",
        "for char in range(1, nr_symbols + 1):\n",
        "  password_list += random.choice(symbols)\n",
        "\n",
        "for char in range(1, nr_numbers + 1):\n",
        "  password_list += random.choice(numbers)\n",
        "\n",
        "print(password_list)\n",
        "random.shuffle(password_list)\n",
        "print(password_list)\n",
        "\n",
        "password = \"\"\n",
        "for char in password_list:\n",
        "  password += char\n",
        "\n",
        "print(f\"Your password is: {password}\")"
      ],
      "metadata": {
        "colab": {
          "base_uri": "https://localhost:8080/"
        },
        "id": "fKFlPG14UZxk",
        "outputId": "ad62dcf1-ae14-4ff6-9c92-d61a5b51da4a"
      },
      "execution_count": null,
      "outputs": [
        {
          "output_type": "stream",
          "name": "stdout",
          "text": [
            "Welcome to the PyPassword Generator!\n",
            "How many letters would you like in your password?\n",
            "3\n",
            "How many symbols would you like?\n",
            "2\n",
            "How many numbers would you like?\n",
            "3\n",
            "['M', 'G', 'R', '$', '&', '9', '1', '8']\n",
            "['8', '&', '1', 'M', 'R', '9', 'G', '$']\n",
            "Your password is: 8&1MR9G$\n"
          ]
        }
      ]
    },
    {
      "cell_type": "markdown",
      "source": [
        "#**Date: 14oct.2023**"
      ],
      "metadata": {
        "id": "9EZP3g0hfVQd"
      }
    },
    {
      "cell_type": "markdown",
      "source": [
        "##**Section-6-8: Function & Loops**"
      ],
      "metadata": {
        "id": "KNI1JtWQUvhf"
      }
    },
    {
      "cell_type": "markdown",
      "source": [
        "###26.Problem"
      ],
      "metadata": {
        "id": "cMU8SsolekB4"
      }
    },
    {
      "cell_type": "markdown",
      "source": [
        "You are painting a wall. The instructions on the paint can says that 1 can of paint can cover 5 square meters of wall. Given a random height and width of wall, calculate how many cans of paint you'll need to buy.\n",
        "\n",
        "**number of cans = (wall height x wall width) ÷ coverage per can.**\n",
        "\n",
        "e.g. Height = 2, Width = 4, Coverage = 5\n",
        "\n",
        "**number of cans = (2 \\* 4) / 5 = 1.6**\n",
        "\n",
        "But because you can't buy 0.6 of a can of paint, the result should be rounded up to 2 cans.\n",
        "\n",
        "Example Input\n",
        "\n",
        "3\n",
        "\n",
        "9\n",
        "\n",
        "**Example Output:**\n",
        "\n",
        "You'll need 6 cans of paint."
      ],
      "metadata": {
        "id": "PMwztJ52foC0"
      }
    },
    {
      "cell_type": "code",
      "source": [
        "# Write your code below this line 👇\n",
        "import math\n",
        "def paint_calc(height, width,cover):\n",
        "  cans = math.ceil((height*width)/cover)\n",
        "  print(f\"You'll need {cans} cans of paint.\")\n",
        "\n",
        "\n",
        "\n",
        "# Write your code above this line 👆\n",
        "# Define a function called paint_calc() so the code below works.\n",
        "\n",
        "# 🚨 Don't change the code below 👇\n",
        "test_h = int(input()) # Height of wall (m)\n",
        "test_w = int(input()) # Width of wall (m)\n",
        "coverage = 5\n",
        "paint_calc(height=test_h, width=test_w, cover=coverage)"
      ],
      "metadata": {
        "colab": {
          "base_uri": "https://localhost:8080/"
        },
        "id": "mM2BHjRNgcdB",
        "outputId": "04b006f1-678c-43da-e344-67bbd531b699"
      },
      "execution_count": null,
      "outputs": [
        {
          "output_type": "stream",
          "name": "stdout",
          "text": [
            "3\n",
            "9\n",
            "You'll need 6 cans of paint.\n"
          ]
        }
      ]
    },
    {
      "cell_type": "markdown",
      "source": [
        "###27.Problem"
      ],
      "metadata": {
        "id": "H1Y-9IdzeqHI"
      }
    },
    {
      "cell_type": "markdown",
      "source": [
        "You need to write a function that checks whether if the number passed into it is a prime number or not."
      ],
      "metadata": {
        "id": "vmRf5daeh8C0"
      }
    },
    {
      "cell_type": "code",
      "source": [
        "# Write your code below this line 👇\n",
        "def prime_checker(number):\n",
        "  if n<2:\n",
        "    print(\"It's not a prime number.\")\n",
        "  else:\n",
        "    for i in range(2,n//2):\n",
        "      if n%i==0:\n",
        "        print(\"It's not a prime number.\")\n",
        "        break\n",
        "    else:\n",
        "      print(\"It's a prime number.\")\n",
        "\n",
        "\n",
        "\n",
        "# Write your code above this line 👆\n",
        "\n",
        "#Do NOT change any of the code below👇\n",
        "n = int(input()) # Check this number\n",
        "prime_checker(number=n)"
      ],
      "metadata": {
        "colab": {
          "base_uri": "https://localhost:8080/",
          "height": 349
        },
        "id": "ZV1131NUiVI4",
        "outputId": "23b091db-db0f-4398-8e8b-f248f06f0232"
      },
      "execution_count": null,
      "outputs": [
        {
          "name": "stdout",
          "output_type": "stream",
          "text": [
            "19\n"
          ]
        },
        {
          "output_type": "error",
          "ename": "NameError",
          "evalue": "ignored",
          "traceback": [
            "\u001b[0;31m---------------------------------------------------------------------------\u001b[0m",
            "\u001b[0;31mNameError\u001b[0m                                 Traceback (most recent call last)",
            "\u001b[0;32m<ipython-input-1-016d1c8c4a5e>\u001b[0m in \u001b[0;36m<cell line: 19>\u001b[0;34m()\u001b[0m\n\u001b[1;32m     17\u001b[0m \u001b[0;31m#Do NOT change any of the code below👇\u001b[0m\u001b[0;34m\u001b[0m\u001b[0;34m\u001b[0m\u001b[0m\n\u001b[1;32m     18\u001b[0m \u001b[0mn\u001b[0m \u001b[0;34m=\u001b[0m \u001b[0mint\u001b[0m\u001b[0;34m(\u001b[0m\u001b[0minput\u001b[0m\u001b[0;34m(\u001b[0m\u001b[0;34m)\u001b[0m\u001b[0;34m)\u001b[0m \u001b[0;31m# Check this number\u001b[0m\u001b[0;34m\u001b[0m\u001b[0;34m\u001b[0m\u001b[0m\n\u001b[0;32m---> 19\u001b[0;31m \u001b[0mprime_checker\u001b[0m\u001b[0;34m(\u001b[0m\u001b[0mnumber\u001b[0m\u001b[0;34m=\u001b[0m\u001b[0mn\u001b[0m\u001b[0;34m)\u001b[0m\u001b[0;34m\u001b[0m\u001b[0;34m\u001b[0m\u001b[0m\n\u001b[0m",
            "\u001b[0;32m<ipython-input-1-016d1c8c4a5e>\u001b[0m in \u001b[0;36mprime_checker\u001b[0;34m(number)\u001b[0m\n\u001b[1;32m      4\u001b[0m     \u001b[0mprint\u001b[0m\u001b[0;34m(\u001b[0m\u001b[0;34m\"It's not a prime number.\"\u001b[0m\u001b[0;34m)\u001b[0m\u001b[0;34m\u001b[0m\u001b[0;34m\u001b[0m\u001b[0m\n\u001b[1;32m      5\u001b[0m   \u001b[0;32melse\u001b[0m\u001b[0;34m:\u001b[0m\u001b[0;34m\u001b[0m\u001b[0;34m\u001b[0m\u001b[0m\n\u001b[0;32m----> 6\u001b[0;31m     \u001b[0;32mfor\u001b[0m \u001b[0mi\u001b[0m \u001b[0;32min\u001b[0m \u001b[0mrange\u001b[0m\u001b[0;34m(\u001b[0m\u001b[0;36m2\u001b[0m\u001b[0;34m,\u001b[0m\u001b[0mmath\u001b[0m\u001b[0;34m.\u001b[0m\u001b[0msqrt\u001b[0m\u001b[0;34m(\u001b[0m\u001b[0mnumber\u001b[0m\u001b[0;34m)\u001b[0m\u001b[0;34m+\u001b[0m\u001b[0;36m1\u001b[0m\u001b[0;34m)\u001b[0m\u001b[0;34m:\u001b[0m\u001b[0;34m\u001b[0m\u001b[0;34m\u001b[0m\u001b[0m\n\u001b[0m\u001b[1;32m      7\u001b[0m       \u001b[0;32mif\u001b[0m \u001b[0mn\u001b[0m\u001b[0;34m%\u001b[0m\u001b[0mi\u001b[0m\u001b[0;34m==\u001b[0m\u001b[0;36m0\u001b[0m\u001b[0;34m:\u001b[0m\u001b[0;34m\u001b[0m\u001b[0;34m\u001b[0m\u001b[0m\n\u001b[1;32m      8\u001b[0m         \u001b[0mprint\u001b[0m\u001b[0;34m(\u001b[0m\u001b[0;34m\"It's not a prime number.\"\u001b[0m\u001b[0;34m)\u001b[0m\u001b[0;34m\u001b[0m\u001b[0;34m\u001b[0m\u001b[0m\n",
            "\u001b[0;31mNameError\u001b[0m: name 'math' is not defined"
          ]
        }
      ]
    },
    {
      "cell_type": "markdown",
      "source": [
        "##**Section-9: Dictonaries**"
      ],
      "metadata": {
        "id": "SAGNIgc8kWqx"
      }
    },
    {
      "cell_type": "markdown",
      "source": [
        "###28.Problem"
      ],
      "metadata": {
        "id": "PwRKtGwxy_Gn"
      }
    },
    {
      "cell_type": "markdown",
      "source": [
        "You have access to a database of student_scores in the format of a dictionary. The keys in student_scores are the names of the students and the values are their exam scores.\n",
        "\n",
        "Write a program that converts their scores to grades. By the end of your program, you should have a new dictionary called student_grades that should contain student names for keys and their grades for values.\n",
        "\n",
        "The final version of the student_grades dictionary will be checked.\n",
        "\n",
        "DO NOT modify lines 1-7 to change the existing student_scores dictionary.\n",
        "\n",
        "DO NOT write any print statements.\n",
        "\n",
        "This is the scoring criteria:\n",
        "\n",
        "Scores 91 - 100: Grade = \"Outstanding\"\n",
        "\n",
        "Scores 81 - 90: Grade = \"Exceeds Expectations\"\n",
        "\n",
        "Scores 71 - 80: Grade = \"Acceptable\"\n",
        "\n",
        "Scores 70 or lower: Grade = \"Fail\"\n",
        "\n",
        "Expected Output\n",
        "\n",
        "**{'Harry': 'Exceeds Expectations', 'Ron': 'Acceptable', 'Hermione': 'Outstanding', 'Draco': 'Acceptable', 'Neville': 'Fail'}**\n"
      ],
      "metadata": {
        "id": "1FJPCvQmzERw"
      }
    },
    {
      "cell_type": "code",
      "source": [
        "student_scores = {\n",
        "  \"Harry\": 81,\n",
        "  \"Ron\": 78,\n",
        "  \"Hermione\": 99,\n",
        "  \"Draco\": 74,\n",
        "  \"Neville\": 62,\n",
        "}\n",
        "# 🚨 Don't change the code above 👆\n",
        "# TODO-1: Create an empty dictionary called student_grades.\n",
        "student_grade={}\n",
        "\n",
        "# TODO-2: Write your code below to add the grades to student_grades.👇\n",
        "for student in student_scores:\n",
        "  if student_scores[student] <= 70:\n",
        "    student_grade[student] = \"Fail\"\n",
        "  elif student_scores[student] <= 80:\n",
        "    student_grade[student] = \"Acceptable\"\n",
        "  elif student_scores[student] <= 90:\n",
        "    student_grade[student] = \"Exceeds Expectations\"\n",
        "  else:\n",
        "    student_grade[student] = \"Outstanding\"\n",
        "\n",
        "# 🚨 Don't change the code below 👇\n",
        "print(student_grade)"
      ],
      "metadata": {
        "colab": {
          "base_uri": "https://localhost:8080/"
        },
        "id": "QWXJEjHVkiFp",
        "outputId": "f0112b15-9b2f-4ff3-f9ef-4a0893929a9e"
      },
      "execution_count": null,
      "outputs": [
        {
          "output_type": "stream",
          "name": "stdout",
          "text": [
            "{'Harry': 'Exceeds Expectations', 'Ron': 'Acceptable', 'Hermione': 'Outstanding', 'Draco': 'Acceptable', 'Neville': 'Fail'}\n"
          ]
        }
      ]
    },
    {
      "cell_type": "markdown",
      "source": [
        "###28.Problem"
      ],
      "metadata": {
        "id": "oLl8ow5pzeyI"
      }
    },
    {
      "cell_type": "markdown",
      "source": [
        "You are going to write a program that adds to a travel_log. You can see a travel_log which is a List that contains 2 Dictionaries. Your job is to create a function that can add new countries to this list.\n",
        "\n",
        "Write a function that will work with the following line of code on line 21 to add the entry for Brazil to the travel_log.\n",
        "\n",
        "**add_new_country(\"Brazil\", 5, [\"Sao Paulo\", \"Rio de Janeiro\"])**\n",
        "\n",
        "DO NOT modify the travel_log directly. The goal is to create a function that modifies it.\n",
        "\n",
        "Example Input\n",
        "\n",
        "Brazil\n",
        "\n",
        "5\n",
        "\n",
        "[\"Sao Paulo\", \"Rio de Janeiro\"]\n",
        "\n",
        "Example Output\n",
        "\n",
        "I've been to Brazil 5 times.\n",
        "\n",
        "My favourite city was Sao Paulo."
      ],
      "metadata": {
        "id": "qE9E7jxezib3"
      }
    },
    {
      "cell_type": "code",
      "source": [
        "country = input() # Add country name\n",
        "visits = int(input()) # Number of visits\n",
        "list_of_cities = eval(input()) # create list from formatted string\n",
        "\n",
        "travel_log = [\n",
        "  {\n",
        "    \"country\": \"France\",\n",
        "    \"visits\": 12,\n",
        "    \"cities\": [\"Paris\", \"Lille\", \"Dijon\"]\n",
        "  },\n",
        "  {\n",
        "    \"country\": \"Germany\",\n",
        "    \"visits\": 5,\n",
        "    \"cities\": [\"Berlin\", \"Hamburg\", \"Stuttgart\"]\n",
        "  },\n",
        "]\n",
        "# Do NOT change the code above 👆\n",
        "\n",
        "# TODO: Write the function that will allow new countries\n",
        "# to be added to the travel_log.\n",
        "def add_new_country(country, visits, list_of_cities):\n",
        "  dict={\"country\":country,\n",
        "    \"visits\": visits,\n",
        "    \"cities\": list_of_cities}\n",
        "  travel_log.append(dict)\n",
        "\n",
        "# Do not change the code below 👇\n",
        "add_new_country(country, visits, list_of_cities)\n",
        "print(f\"I've been to {travel_log[2]['country']} {travel_log[2]['visits']} times.\")\n",
        "print(f\"My favourite city was {travel_log[2]['cities'][0]}.\")"
      ],
      "metadata": {
        "colab": {
          "base_uri": "https://localhost:8080/"
        },
        "id": "G65632jE3_Fs",
        "outputId": "285e5c15-32ce-43a2-d1b8-60735ebf5736"
      },
      "execution_count": null,
      "outputs": [
        {
          "output_type": "stream",
          "name": "stdout",
          "text": [
            "India\n",
            "5\n",
            "[\"Sitamarhi\", \"Patna\", \"Darbhanga\"]\n",
            "I've been to India 5 times.\n",
            "My favourite city was Sitamarhi.\n"
          ]
        }
      ]
    },
    {
      "cell_type": "markdown",
      "source": [
        "##**Section-10: Function & outputs**"
      ],
      "metadata": {
        "id": "mXMCTZJg41UD"
      }
    },
    {
      "cell_type": "markdown",
      "source": [
        "###24.Problem"
      ],
      "metadata": {
        "id": "HRqKl_kM5Jqz"
      }
    },
    {
      "cell_type": "markdown",
      "source": [
        "days_in_month()\n",
        "\n",
        "which will take a year and a month as inputs, e.g.\n",
        "\n",
        "days_in_month(year=2022, month=2)\n",
        "\n",
        "And it will use this information to work out if the year is a leap year and decide the number of days in the month, then return that as the output,\n",
        "\n",
        "e.g.:\n",
        "\n",
        "28\n",
        "\n"
      ],
      "metadata": {
        "id": "1b_F217k5QVA"
      }
    },
    {
      "cell_type": "code",
      "source": [
        "def is_leap(year):\n",
        "  if year % 4 == 0:\n",
        "    if year % 100 == 0:\n",
        "      if year % 400 == 0:\n",
        "        return True\n",
        "      else:\n",
        "        return False\n",
        "    else:\n",
        "      return True\n",
        "  else:\n",
        "    return False\n",
        "\n",
        "# TODO: Add more code here 👇\n",
        "def days_in_month(year, month):\n",
        "  month_days = [31, 28, 31, 30, 31, 30, 31, 31, 30, 31, 30, 31]\n",
        "  if is_leap(year):\n",
        "    month_days[1]=29\n",
        "    return month_days[month-1]\n",
        "  return month_days[month-1]\n",
        "\n",
        "\n",
        "#🚨 Do NOT change any of the code below\n",
        "year = int(input()) # Enter a year\n",
        "month = int(input()) # Enter a month\n",
        "days = days_in_month(year, month)\n",
        "print(days)\n",
        "\n"
      ],
      "metadata": {
        "colab": {
          "base_uri": "https://localhost:8080/"
        },
        "id": "HO30of6AEMx5",
        "outputId": "5a8f2a92-dc86-49ba-d528-e8dc35b38f4b"
      },
      "execution_count": null,
      "outputs": [
        {
          "output_type": "stream",
          "name": "stdout",
          "text": [
            "2024\n",
            "2\n",
            "29\n"
          ]
        }
      ]
    },
    {
      "cell_type": "markdown",
      "source": [
        "###25.Problem Calculator Project"
      ],
      "metadata": {
        "id": "EvqlZB8nEj3A"
      }
    },
    {
      "cell_type": "code",
      "source": [
        "\n",
        "\n",
        "def add(n1, n2):\n",
        "  return n1 + n2\n",
        "\n",
        "def subtract(n1, n2):\n",
        "  return n1 - n2\n",
        "\n",
        "def multiply(n1, n2):\n",
        "  return n1 * n2\n",
        "\n",
        "def divide(n1, n2):\n",
        "  return n1 / n2\n",
        "\n",
        "operations = {\n",
        "  \"+\": add,\n",
        "  \"-\": subtract,\n",
        "  \"*\": multiply,\n",
        "  \"/\": divide\n",
        "}\n",
        "\n",
        "def calculator():\n",
        "\n",
        "  num1 = float(input(\"What's the first number?: \"))\n",
        "  for symbol in operations:\n",
        "    print(symbol)\n",
        "  should_continue = True\n",
        "\n",
        "  while should_continue:\n",
        "    operation_symbol = input(\"Pick an operation: \")\n",
        "    num2 = float(input(\"What's the next number?: \"))\n",
        "    calculation_function = operations[operation_symbol]\n",
        "    answer = calculation_function(num1, num2)\n",
        "    print(f\"{num1} {operation_symbol} {num2} = {answer}\")\n",
        "\n",
        "    a = input(f\"Type 'y' to continue calculating with {answer}, or type 'n' to start a new calculation: ,or type any other key to stop calculation: \")\n",
        "    if a == 'y':\n",
        "      num1 = answer\n",
        "    elif a== 'n':\n",
        "      should_continue = False\n",
        "      calculator()\n",
        "    else:\n",
        "      print(\"Thank you\")\n",
        "      should_continue = False\n",
        "calculator()\n"
      ],
      "metadata": {
        "colab": {
          "base_uri": "https://localhost:8080/"
        },
        "id": "cFzXhSf8GlGE",
        "outputId": "66a7fcc3-3bc3-46da-a8ea-40d4eae81ea7"
      },
      "execution_count": null,
      "outputs": [
        {
          "output_type": "stream",
          "name": "stdout",
          "text": [
            "What's the first number?: 12\n",
            "+\n",
            "-\n",
            "*\n",
            "/\n",
            "Pick an operation: -\n",
            "What's the next number?: 1\n",
            "12.0 - 1.0 = 11.0\n",
            "Type 'y' to continue calculating with 11.0, or type 'n' to start a new calculation: ,or type any other key to stop calculation: k\n",
            "Thank you\n"
          ]
        }
      ]
    },
    {
      "cell_type": "markdown",
      "source": [
        "#**Date: 16oct.2023**"
      ],
      "metadata": {
        "id": "zi2ykVyRH7L6"
      }
    },
    {
      "cell_type": "markdown",
      "source": [
        "##**Section-11: Blackjack Capstone Project**"
      ],
      "metadata": {
        "id": "NHwKsbr8-4Iy"
      }
    },
    {
      "cell_type": "markdown",
      "source": [
        "###26.Problem"
      ],
      "metadata": {
        "id": "OkUPlYdH_FGa"
      }
    },
    {
      "cell_type": "code",
      "source": [
        "\n",
        "#Hint 1: Go to this website and try out the Blackjack game:\n",
        "#   https://games.washingtonpost.com/games/blackjack/\n",
        "#Then try out the completed Blackjack project here:\n",
        "#   http://blackjack-final.appbrewery.repl.run\n",
        "\n",
        "#Hint 2: Read this breakdown of program requirements:\n",
        "#   http://listmoz.com/view/6h34DJpvJBFVRlZfJvxF\n",
        "#Then try to create your own flowchart for the program.\n",
        "\n",
        "#Hint 3: Download and read this flow chart I've created:\n",
        "#   https://drive.google.com/uc?export=download&id=1rDkiHCrhaf9eX7u7yjM1qwSuyEk-rPnt\n",
        "\n",
        "#Hint 4: Create a deal_card() function that uses the List below to *return* a random card.\n",
        "#11 is the Ace.\n",
        "import random\n",
        "\n",
        "def deal_card():\n",
        "  \"\"\"Returns a random card from the deck.\"\"\"\n",
        "  cards = [11, 2, 3, 4, 5, 6, 7, 8, 9, 10, 10, 10, 10]\n",
        "  card = random.choice(cards)\n",
        "  return card\n",
        "\n",
        "#Hint 6: Create a function called calculate_score() that takes a List of cards as input\n",
        "#and returns the score.\n",
        "#Look up the sum() function to help you do this.\n",
        "def calculate_score(cards):\n",
        "  \"\"\"Take a list of cards and return the score calculated from the cards\"\"\"\n",
        "\n",
        "  #Hint 7: Inside calculate_score() check for a blackjack (a hand with only 2 cards: ace + 10) and return 0 instead of the actual score. 0 will represent a blackjack in our game.\n",
        "  if sum(cards) == 21 and len(cards) == 2:\n",
        "    return 0\n",
        "  #Hint 8: Inside calculate_score() check for an 11 (ace). If the score is already over 21, remove the 11 and replace it with a 1. You might need to look up append() and remove().\n",
        "  if 11 in cards and sum(cards) > 21:\n",
        "    cards.remove(11)\n",
        "    cards.append(1)\n",
        "  return sum(cards)\n",
        "\n",
        "#Hint 13: Create a function called compare() and pass in the user_score and computer_score. If the computer and user both have the same score, then it's a draw. If the computer has a blackjack (0), then the user loses. If the user has a blackjack (0), then the user wins. If the user_score is over 21, then the user loses. If the computer_score is over 21, then the computer loses. If none of the above, then the player with the highest score wins.\n",
        "def compare(user_score, computer_score):\n",
        "  #Bug fix. If you and the computer are both over, you lose.\n",
        "  if user_score > 21 and computer_score > 21:\n",
        "    return \"You went over. You lose 😤\"\n",
        "\n",
        "\n",
        "  if user_score == computer_score:\n",
        "    return \"Draw 🙃\"\n",
        "  elif computer_score == 0:\n",
        "    return \"Lose, opponent has Blackjack 😱\"\n",
        "  elif user_score == 0:\n",
        "    return \"Win with a Blackjack 😎\"\n",
        "  elif user_score > 21:\n",
        "    return \"You went over. You lose 😭\"\n",
        "  elif computer_score > 21:\n",
        "    return \"Opponent went over. You win 😁\"\n",
        "  elif user_score > computer_score:\n",
        "    return \"You win 😃\"\n",
        "  else:\n",
        "    return \"You lose 😤\"\n",
        "\n",
        "def play_game():\n",
        "\n",
        "\n",
        "\n",
        "  #Hint 5: Deal the user and computer 2 cards each using deal_card()\n",
        "  user_cards = []\n",
        "  computer_cards = []\n",
        "  is_game_over = False\n",
        "\n",
        "  for _ in range(2):\n",
        "    user_cards.append(deal_card())\n",
        "    computer_cards.append(deal_card())\n",
        "\n",
        "  #Hint 11: The score will need to be rechecked with every new card drawn and the checks in Hint 9 need to be repeated until the game ends.\n",
        "\n",
        "  while not is_game_over:\n",
        "    #Hint 9: Call calculate_score(). If the computer or the user has a blackjack (0) or if the user's score is over 21, then the game ends.\n",
        "    user_score = calculate_score(user_cards)\n",
        "    computer_score = calculate_score(computer_cards)\n",
        "    print(f\"   Your cards: {user_cards}, current score: {user_score}\")\n",
        "    print(f\"   Computer's first card: {computer_cards[0]}\")\n",
        "\n",
        "    if user_score == 0 or computer_score == 0 or user_score > 21:\n",
        "      is_game_over = True\n",
        "    else:\n",
        "      #Hint 10: If the game has not ended, ask the user if they want to draw another card. If yes, then use the deal_card() function to add another card to the user_cards List. If no, then the game has ended.\n",
        "      user_should_deal = input(\"Type 'y' to get another card, type 'n' to pass: \")\n",
        "      if user_should_deal == \"y\":\n",
        "        user_cards.append(deal_card())\n",
        "      else:\n",
        "        is_game_over = True\n",
        "\n",
        "  #Hint 12: Once the user is done, it's time to let the computer play. The computer should keep drawing cards as long as it has a score less than 17.\n",
        "  while computer_score != 0 and computer_score < 17:\n",
        "    computer_cards.append(deal_card())\n",
        "    computer_score = calculate_score(computer_cards)\n",
        "\n",
        "  print(f\"   Your final hand: {user_cards}, final score: {user_score}\")\n",
        "  print(f\"   Computer's final hand: {computer_cards}, final score: {computer_score}\")\n",
        "  print(compare(user_score, computer_score))\n",
        "\n",
        "#Hint 14: Ask the user if they want to restart the game. If they answer yes, clear the console and start a new game of blackjack and show the logo from art.py.\n",
        "while input(\"Do you want to play a game of Blackjack? Type 'y' or 'n': \") == \"y\":\n",
        "\n",
        "  play_game()\n"
      ],
      "metadata": {
        "colab": {
          "base_uri": "https://localhost:8080/"
        },
        "id": "_2EgKx0e_LsP",
        "outputId": "222f08e6-796c-4a9f-c1e9-1045fae4fdfd"
      },
      "execution_count": null,
      "outputs": [
        {
          "name": "stdout",
          "output_type": "stream",
          "text": [
            "Do you want to play a game of Blackjack? Type 'y' or 'n': y\n",
            "   Your cards: [5, 9], current score: 14\n",
            "   Computer's first card: 7\n",
            "Type 'y' to get another card, type 'n' to pass: y\n",
            "   Your cards: [5, 9, 10], current score: 24\n",
            "   Computer's first card: 7\n",
            "   Your final hand: [5, 9, 10], final score: 24\n",
            "   Computer's final hand: [7, 3, 4, 1, 10], final score: 25\n",
            "You went over. You lose 😤\n",
            "Do you want to play a game of Blackjack? Type 'y' or 'n': n\n"
          ]
        }
      ]
    },
    {
      "cell_type": "markdown",
      "source": [
        "##**Section-12: Number Guessing Game**"
      ],
      "metadata": {
        "id": "P3BL8CBmKWpA"
      }
    },
    {
      "cell_type": "markdown",
      "source": [
        "###27.Problem"
      ],
      "metadata": {
        "id": "RGCiDJYiLCMA"
      }
    },
    {
      "cell_type": "code",
      "source": [
        "import random\n",
        "EASY_LEVEL_TURNS = 10\n",
        "HARD_LEVEL_TURNS = 5\n",
        "\n",
        "\n",
        "def check_answer(guess, answer, turns):\n",
        "  \"\"\"checks answer against guess. Returns the number of turns remaining.\"\"\"\n",
        "  if guess > answer:\n",
        "    print(\"Too high.\")\n",
        "    return turns - 1\n",
        "  elif guess < answer:\n",
        "    print(\"Too low.\")\n",
        "    return turns - 1\n",
        "  else:\n",
        "    print(f\"You got it! The answer was {answer}.\")\n",
        "\n",
        "\n",
        "def set_difficulty():\n",
        "  level = input(\"Choose a difficulty. Type 'easy' or 'hard': \")\n",
        "  if level == \"easy\":\n",
        "    return EASY_LEVEL_TURNS\n",
        "  else:\n",
        "    return HARD_LEVEL_TURNS\n",
        "\n",
        "def game():\n",
        "\n",
        "\n",
        "  print(\"Welcome to the Number Guessing Game!\")\n",
        "  print(\"I'm thinking of a number between 1 and 100.\")\n",
        "  answer = random.randint(1, 100)\n",
        " # print(f\"Pssst, the correct answer is {answer}\")\n",
        "\n",
        "  turns = set_difficulty()\n",
        "\n",
        "  guess = 0\n",
        "  while guess != answer:\n",
        "    print(f\"You have {turns} attempts remaining to guess the number.\")\n",
        "\n",
        "\n",
        "    guess = int(input(\"Make a guess: \"))\n",
        "\n",
        "\n",
        "    turns = check_answer(guess, answer, turns)\n",
        "    if turns == 0:\n",
        "      print(\"You've run out of guesses, you lose.\")\n",
        "      print(f\"Pssst, the correct answer is {answer}\")\n",
        "\n",
        "      return\n",
        "    elif guess != answer:\n",
        "      print(\"Guess again.\")\n",
        "\n",
        "\n",
        "game()\n"
      ],
      "metadata": {
        "colab": {
          "base_uri": "https://localhost:8080/"
        },
        "id": "HTMwrUuYK_ov",
        "outputId": "680fae92-1fef-4e71-8869-9467187d5df5"
      },
      "execution_count": null,
      "outputs": [
        {
          "output_type": "stream",
          "name": "stdout",
          "text": [
            "Welcome to the Number Guessing Game!\n",
            "I'm thinking of a number between 1 and 100.\n",
            "Choose a difficulty. Type 'easy' or 'hard': 1\n",
            "You have 5 attempts remaining to guess the number.\n",
            "Make a guess: 2\n",
            "Too low.\n",
            "Guess again.\n",
            "You have 4 attempts remaining to guess the number.\n",
            "Make a guess: 3\n",
            "Too low.\n",
            "Guess again.\n",
            "You have 3 attempts remaining to guess the number.\n",
            "Make a guess: 4\n",
            "Too low.\n",
            "Guess again.\n",
            "You have 2 attempts remaining to guess the number.\n",
            "Make a guess: 5\n",
            "Too low.\n",
            "Guess again.\n",
            "You have 1 attempts remaining to guess the number.\n",
            "Make a guess: 6\n",
            "Too low.\n",
            "You've run out of guesses, you lose.\n",
            "Pssst, the correct answer is 40\n"
          ]
        }
      ]
    },
    {
      "cell_type": "markdown",
      "source": [
        "#**Date: 17oct.2023**"
      ],
      "metadata": {
        "id": "UXjPZkdCh5IF"
      }
    },
    {
      "cell_type": "markdown",
      "source": [
        "##**Section:13- Debugging**"
      ],
      "metadata": {
        "id": "_ShSNivWiCRS"
      }
    },
    {
      "cell_type": "markdown",
      "source": [
        "###28.Problem"
      ],
      "metadata": {
        "id": "u6iBixGjjGhi"
      }
    },
    {
      "cell_type": "code",
      "source": [
        "number = int(input()) # Which number do you want to check?\n",
        "\n",
        "if number % 2 == 0:\n",
        "  print(\"This is an even number.\")\n",
        "else:\n",
        "  print(\"This is an odd number.\")\n"
      ],
      "metadata": {
        "colab": {
          "base_uri": "https://localhost:8080/"
        },
        "id": "CuTKBVBOik0v",
        "outputId": "646881ee-c9a4-4e0e-f568-b91afdeff1cb"
      },
      "execution_count": null,
      "outputs": [
        {
          "output_type": "stream",
          "name": "stdout",
          "text": [
            "4\n",
            "This is an even number.\n"
          ]
        }
      ]
    },
    {
      "cell_type": "markdown",
      "source": [
        "###29.Problem"
      ],
      "metadata": {
        "id": "o50Q0Mr5jMFh"
      }
    },
    {
      "cell_type": "code",
      "source": [
        "# Which year do you want to check?\n",
        "year = input()\n",
        "year = int(year)\n",
        "if year % 4 == 0:\n",
        "  if year % 100 == 0:\n",
        "    if year % 400 == 0:\n",
        "      print(\"Leap year.\")\n",
        "    else:\n",
        "      print(\"Not leap year.\")\n",
        "  else:\n",
        "    print(\"Leap year.\")\n",
        "else:\n",
        "  print(\"Not leap year.\")\n"
      ],
      "metadata": {
        "colab": {
          "base_uri": "https://localhost:8080/"
        },
        "id": "6vLWUMsdjOD9",
        "outputId": "3d9180a2-941b-47dd-fff9-c16e170edbdf"
      },
      "execution_count": null,
      "outputs": [
        {
          "output_type": "stream",
          "name": "stdout",
          "text": [
            "2000\n",
            "Leap year.\n"
          ]
        }
      ]
    },
    {
      "cell_type": "markdown",
      "source": [
        "###30.Problem"
      ],
      "metadata": {
        "id": "w4xfvgFaj2pN"
      }
    },
    {
      "cell_type": "code",
      "source": [
        "target = int(input())\n",
        "for number in range(1, target + 1):\n",
        "  if number % 3 == 0 and number % 5 == 0:\n",
        "    print(\"FizzBuzz\")\n",
        "  elif number % 3 == 0:\n",
        "    print(\"Fizz\")\n",
        "  elif number % 5 == 0:\n",
        "    print(\"Buzz\")\n",
        "  else:\n",
        "    print(number)"
      ],
      "metadata": {
        "colab": {
          "base_uri": "https://localhost:8080/"
        },
        "id": "Gxo9vtysj4yI",
        "outputId": "c8739295-7078-492b-aac9-e625aae67717"
      },
      "execution_count": null,
      "outputs": [
        {
          "output_type": "stream",
          "name": "stdout",
          "text": [
            "15\n",
            "1\n",
            "2\n",
            "Fizz\n",
            "4\n",
            "Buzz\n",
            "Fizz\n",
            "7\n",
            "8\n",
            "Fizz\n",
            "Buzz\n",
            "11\n",
            "Fizz\n",
            "13\n",
            "14\n",
            "FizzBuzz\n"
          ]
        }
      ]
    },
    {
      "cell_type": "markdown",
      "source": [
        "##Section:18 Higher Lower Game"
      ],
      "metadata": {
        "id": "U6SLO56DkzRw"
      }
    },
    {
      "cell_type": "markdown",
      "source": [
        "###31.Problem"
      ],
      "metadata": {
        "id": "46wihOWllkWy"
      }
    },
    {
      "cell_type": "code",
      "source": [
        "data = [\n",
        "    {\n",
        "        'name': 'Instagram',\n",
        "        'follower_count': 346,\n",
        "        'description': 'Social media platform',\n",
        "        'country': 'United States'\n",
        "    },\n",
        "    {\n",
        "        'name': 'Cristiano Ronaldo',\n",
        "        'follower_count': 215,\n",
        "        'description': 'Footballer',\n",
        "        'country': 'Portugal'\n",
        "    },\n",
        "    {\n",
        "        'name': 'Ariana Grande',\n",
        "        'follower_count': 183,\n",
        "        'description': 'Musician and actress',\n",
        "        'country': 'United States'\n",
        "    },\n",
        "    {\n",
        "        'name': 'Dwayne Johnson',\n",
        "        'follower_count': 181,\n",
        "        'description': 'Actor and professional wrestler',\n",
        "        'country': 'United States'\n",
        "    },\n",
        "    {\n",
        "        'name': 'Selena Gomez',\n",
        "        'follower_count': 174,\n",
        "        'description': 'Musician and actress',\n",
        "        'country': 'United States'\n",
        "    },\n",
        "    {\n",
        "        'name': 'Kylie Jenner',\n",
        "        'follower_count': 172,\n",
        "        'description': 'Reality TV personality and businesswoman and Self-Made Billionaire',\n",
        "        'country': 'United States'\n",
        "    },\n",
        "    {\n",
        "        'name': 'Kim Kardashian',\n",
        "        'follower_count': 167,\n",
        "        'description': 'Reality TV personality and businesswoman',\n",
        "        'country': 'United States'\n",
        "    },\n",
        "    {\n",
        "        'name': 'Lionel Messi',\n",
        "        'follower_count': 149,\n",
        "        'description': 'Footballer',\n",
        "        'country': 'Argentina'\n",
        "    },\n",
        "    {\n",
        "        'name': 'Beyoncé',\n",
        "        'follower_count': 145,\n",
        "        'description': 'Musician',\n",
        "        'country': 'United States'\n",
        "    },\n",
        "    {\n",
        "        'name': 'Neymar',\n",
        "        'follower_count': 138,\n",
        "        'description': 'Footballer',\n",
        "        'country': 'Brasil'\n",
        "    },\n",
        "    {\n",
        "        'name': 'National Geographic',\n",
        "        'follower_count': 135,\n",
        "        'description': 'Magazine',\n",
        "        'country': 'United States'\n",
        "    },\n",
        "    {\n",
        "        'name': 'Justin Bieber',\n",
        "        'follower_count': 133,\n",
        "        'description': 'Musician',\n",
        "        'country': 'Canada'\n",
        "    },\n",
        "    {\n",
        "        'name': 'Taylor Swift',\n",
        "        'follower_count': 131,\n",
        "        'description': 'Musician',\n",
        "        'country': 'United States'\n",
        "    },\n",
        "    {\n",
        "        'name': 'Kendall Jenner',\n",
        "        'follower_count': 127,\n",
        "        'description': 'Reality TV personality and Model',\n",
        "        'country': 'United States'\n",
        "    },\n",
        "    {\n",
        "        'name': 'Jennifer Lopez',\n",
        "        'follower_count': 119,\n",
        "        'description': 'Musician and actress',\n",
        "        'country': 'United States'\n",
        "    },\n",
        "    {\n",
        "        'name': 'Nicki Minaj',\n",
        "        'follower_count': 113,\n",
        "        'description': 'Musician',\n",
        "        'country': 'Trinidad and Tobago'\n",
        "    },\n",
        "    {\n",
        "        'name': 'Nike',\n",
        "        'follower_count': 109,\n",
        "        'description': 'Sportswear multinational',\n",
        "        'country': 'United States'\n",
        "    },\n",
        "    {\n",
        "        'name': 'Khloé Kardashian',\n",
        "        'follower_count': 108,\n",
        "        'description': 'Reality TV personality and businesswoman',\n",
        "        'country': 'United States'\n",
        "    },\n",
        "    {\n",
        "        'name': 'Miley Cyrus',\n",
        "        'follower_count': 107,\n",
        "        'description': 'Musician and actress',\n",
        "        'country': 'United States'\n",
        "    },\n",
        "    {\n",
        "        'name': 'Katy Perry',\n",
        "        'follower_count': 94,\n",
        "        'description': 'Musician',\n",
        "        'country': 'United States'\n",
        "    },\n",
        "    {\n",
        "        'name': 'Kourtney Kardashian',\n",
        "        'follower_count': 90,\n",
        "        'description': 'Reality TV personality',\n",
        "        'country': 'United States'\n",
        "    },\n",
        "    {\n",
        "        'name': 'Kevin Hart',\n",
        "        'follower_count': 89,\n",
        "        'description': 'Comedian and actor',\n",
        "        'country': 'United States'\n",
        "    },\n",
        "    {\n",
        "        'name': 'Ellen DeGeneres',\n",
        "        'follower_count': 87,\n",
        "        'description': 'Comedian',\n",
        "        'country': 'United States'\n",
        "    },\n",
        "    {\n",
        "        'name': 'Real Madrid CF',\n",
        "        'follower_count': 86,\n",
        "        'description': 'Football club',\n",
        "        'country': 'Spain'\n",
        "    },\n",
        "    {\n",
        "        'name': 'FC Barcelona',\n",
        "        'follower_count': 85,\n",
        "        'description': 'Football club',\n",
        "        'country': 'Spain'\n",
        "    },\n",
        "    {\n",
        "        'name': 'Rihanna',\n",
        "        'follower_count': 81,\n",
        "        'description': 'Musician and businesswoman',\n",
        "        'country': 'Barbados'\n",
        "    },\n",
        "    {\n",
        "        'name': 'Demi Lovato',\n",
        "        'follower_count': 80,\n",
        "        'description': 'Musician and actress',\n",
        "        'country': 'United States'\n",
        "    },\n",
        "    {\n",
        "        'name': \"Victoria's Secret\",\n",
        "        'follower_count': 69,\n",
        "        'description': 'Lingerie brand',\n",
        "        'country': 'United States'\n",
        "    },\n",
        "    {\n",
        "        'name': 'Zendaya',\n",
        "        'follower_count': 68,\n",
        "        'description': 'Actress and musician',\n",
        "        'country': 'United States'\n",
        "    },\n",
        "    {\n",
        "        'name': 'Shakira',\n",
        "        'follower_count': 66,\n",
        "        'description': 'Musician',\n",
        "        'country': 'Colombia'\n",
        "    },\n",
        "    {\n",
        "        'name': 'Drake',\n",
        "        'follower_count': 65,\n",
        "        'description': 'Musician',\n",
        "        'country': 'Canada'\n",
        "    },\n",
        "    {\n",
        "        'name': 'Chris Brown',\n",
        "        'follower_count': 64,\n",
        "        'description': 'Musician',\n",
        "        'country': 'United States'\n",
        "    },\n",
        "    {\n",
        "        'name': 'LeBron James',\n",
        "        'follower_count': 63,\n",
        "        'description': 'Basketball player',\n",
        "        'country': 'United States'\n",
        "    },\n",
        "    {\n",
        "        'name': 'Vin Diesel',\n",
        "        'follower_count': 62,\n",
        "        'description': 'Actor',\n",
        "        'country': 'United States'\n",
        "    },\n",
        "    {\n",
        "        'name': 'Cardi B',\n",
        "        'follower_count': 67,\n",
        "        'description': 'Musician',\n",
        "        'country': 'United States'\n",
        "    },\n",
        "    {\n",
        "        'name': 'David Beckham',\n",
        "        'follower_count': 82,\n",
        "        'description': 'Footballer',\n",
        "        'country': 'United Kingdom'\n",
        "    },\n",
        "    {\n",
        "        'name': 'Billie Eilish',\n",
        "        'follower_count': 61,\n",
        "        'description': 'Musician',\n",
        "        'country': 'United States'\n",
        "    },\n",
        "    {\n",
        "        'name': 'Justin Timberlake',\n",
        "        'follower_count': 59,\n",
        "        'description': 'Musician and actor',\n",
        "        'country': 'United States'\n",
        "    },\n",
        "    {\n",
        "        'name': 'UEFA Champions League',\n",
        "        'follower_count': 58,\n",
        "        'description': 'Club football competition',\n",
        "        'country': 'Europe'\n",
        "    },\n",
        "    {\n",
        "        'name': 'NASA',\n",
        "        'follower_count': 56,\n",
        "        'description': 'Space agency',\n",
        "        'country': 'United States'\n",
        "    },\n",
        "    {\n",
        "        'name': 'Emma Watson',\n",
        "        'follower_count': 56,\n",
        "        'description': 'Actress',\n",
        "        'country': 'United Kingdom'\n",
        "    },\n",
        "    {\n",
        "        'name': 'Shawn Mendes',\n",
        "        'follower_count': 57,\n",
        "        'description': 'Musician',\n",
        "        'country': 'Canada'\n",
        "    },\n",
        "    {\n",
        "        'name': 'Virat Kohli',\n",
        "        'follower_count': 55,\n",
        "        'description': 'Cricketer',\n",
        "        'country': 'India'\n",
        "    },\n",
        "    {\n",
        "        'name': 'Gigi Hadid',\n",
        "        'follower_count': 54,\n",
        "        'description': 'Model',\n",
        "        'country': 'United States'\n",
        "    },\n",
        "    {\n",
        "        'name': 'Priyanka Chopra Jonas',\n",
        "        'follower_count': 53,\n",
        "        'description': 'Actress and musician',\n",
        "        'country': 'India'\n",
        "    },\n",
        "    {\n",
        "        'name': '9GAG',\n",
        "        'follower_count': 52,\n",
        "        'description': 'Social media platform',\n",
        "        'country': 'China'\n",
        "    },\n",
        "    {\n",
        "        'name': 'Ronaldinho',\n",
        "        'follower_count': 51,\n",
        "        'description': 'Footballer',\n",
        "        'country': 'Brasil'\n",
        "    },\n",
        "    {\n",
        "        'name': 'Maluma',\n",
        "        'follower_count': 50,\n",
        "        'description': 'Musician',\n",
        "        'country': 'Colombia'\n",
        "    },\n",
        "    {\n",
        "        'name': 'Camila Cabello',\n",
        "        'follower_count': 49,\n",
        "        'description': 'Musician',\n",
        "        'country': 'Cuba'\n",
        "    },\n",
        "    {\n",
        "        'name': 'NBA',\n",
        "        'follower_count': 47,\n",
        "        'description': 'Club Basketball Competition',\n",
        "        'country': 'United States'\n",
        "    }\n",
        "]\n"
      ],
      "metadata": {
        "id": "EVDLhOcYk81V"
      },
      "execution_count": null,
      "outputs": []
    },
    {
      "cell_type": "code",
      "source": [
        "import random\n",
        "\n",
        "def get_random_account():\n",
        "  \"\"\"Get data from random account\"\"\"\n",
        "  return random.choice(data)\n",
        "\n",
        "def format_data(account):\n",
        "  \"\"\"Format account into printable format: name, description and country\"\"\"\n",
        "  name = account[\"name\"]\n",
        "  description = account[\"description\"]\n",
        "  country = account[\"country\"]\n",
        "  # print(f'{name}: {account[\"follower_count\"]}')\n",
        "  return f\"{name}, a {description}, from {country}\"\n",
        "\n",
        "def check_answer(guess, a_followers, b_followers):\n",
        "  \"\"\"Checks followers against user's guess\n",
        "  and returns True if they got it right.\n",
        "  Or False if they got it wrong.\"\"\"\n",
        "  if a_followers > b_followers:\n",
        "    return guess == \"a\"\n",
        "  else:\n",
        "    return guess == \"b\"\n",
        "\n",
        "\n",
        "def game():\n",
        "  score = 0\n",
        "  game_should_continue = True\n",
        "  account_a = get_random_account()\n",
        "  account_b = get_random_account()\n",
        "\n",
        "  while game_should_continue:\n",
        "    account_a = account_b\n",
        "    account_b = get_random_account()\n",
        "\n",
        "    while account_a == account_b:\n",
        "      account_b = get_random_account()\n",
        "\n",
        "    print(f\"Compare A: {format_data(account_a)}.\")\n",
        "\n",
        "    print(f\"Against B: {format_data(account_b)}.\")\n",
        "\n",
        "    guess = input(\"Who has more followers? Type 'A' or 'B': \").lower()\n",
        "    a_follower_count = account_a[\"follower_count\"]\n",
        "    b_follower_count = account_b[\"follower_count\"]\n",
        "    is_correct = check_answer(guess, a_follower_count, b_follower_count)\n",
        "\n",
        "\n",
        "    if is_correct:\n",
        "      score += 1\n",
        "      print(f\"You're right! Current score: {score}.\")\n",
        "    else:\n",
        "      game_should_continue = False\n",
        "      print(f\"Sorry, that's wrong. Final score: {score}\")\n",
        "\n",
        "game()\n"
      ],
      "metadata": {
        "colab": {
          "base_uri": "https://localhost:8080/"
        },
        "id": "mVs6k8x9lCYQ",
        "outputId": "fd01d18e-d3fb-4b46-f8b2-84bc33d568c2"
      },
      "execution_count": null,
      "outputs": [
        {
          "output_type": "stream",
          "name": "stdout",
          "text": [
            "Compare A: National Geographic, a Magazine, from United States.\n",
            "Against B: Katy Perry, a Musician, from United States.\n",
            "Who has more followers? Type 'A' or 'B': A\n",
            "You're right! Current score: 1.\n",
            "Compare A: Katy Perry, a Musician, from United States.\n",
            "Against B: National Geographic, a Magazine, from United States.\n",
            "Who has more followers? Type 'A' or 'B': B\n",
            "You're right! Current score: 2.\n",
            "Compare A: National Geographic, a Magazine, from United States.\n",
            "Against B: Demi Lovato, a Musician and actress, from United States.\n",
            "Who has more followers? Type 'A' or 'B': A\n",
            "You're right! Current score: 3.\n",
            "Compare A: Demi Lovato, a Musician and actress, from United States.\n",
            "Against B: Cristiano Ronaldo, a Footballer, from Portugal.\n",
            "Who has more followers? Type 'A' or 'B': A\n",
            "Sorry, that's wrong. Final score: 3\n"
          ]
        }
      ]
    },
    {
      "cell_type": "markdown",
      "source": [
        "##**Section:24 - File Handling**"
      ],
      "metadata": {
        "id": "USTWKo7nlrhx"
      }
    },
    {
      "cell_type": "markdown",
      "source": [
        "###32.Problem  "
      ],
      "metadata": {
        "id": "6ERDaPbBA6yx"
      }
    },
    {
      "cell_type": "code",
      "source": [
        "file = open('/content/file.txt', 'r')\n",
        "\n",
        "\n",
        "for each in file:\n",
        "\tprint (each)\n"
      ],
      "metadata": {
        "colab": {
          "base_uri": "https://localhost:8080/"
        },
        "id": "Tvp6557yBDuu",
        "outputId": "958078c3-53eb-4526-a5e7-c8dc810c36e0"
      },
      "execution_count": null,
      "outputs": [
        {
          "output_type": "stream",
          "name": "stdout",
          "text": [
            "Hello world\n",
            "\n",
            "AnuragKumar\n",
            "\n",
            "123 456\n"
          ]
        }
      ]
    },
    {
      "cell_type": "code",
      "source": [
        "file = open(\"/content/file.txt\", \"r\")\n",
        "print (file.read())\n"
      ],
      "metadata": {
        "colab": {
          "base_uri": "https://localhost:8080/"
        },
        "id": "CQUQW2hgCAFy",
        "outputId": "969ac0e5-337c-45a7-82ab-b08617ef4b6a"
      },
      "execution_count": null,
      "outputs": [
        {
          "output_type": "stream",
          "name": "stdout",
          "text": [
            "Hello world\n",
            "AnuragKumar\n",
            "123 456\n"
          ]
        }
      ]
    },
    {
      "cell_type": "code",
      "source": [
        "with open(\"/content/file.txt\") as file:\n",
        "\tdata = file.read()\n",
        "\n",
        "print(data)\n"
      ],
      "metadata": {
        "colab": {
          "base_uri": "https://localhost:8080/"
        },
        "id": "zt9ogHgcCOxL",
        "outputId": "2170ca47-368c-423d-af21-e0a05a8df1d2"
      },
      "execution_count": null,
      "outputs": [
        {
          "output_type": "stream",
          "name": "stdout",
          "text": [
            "Hello world\n",
            "AnuragKumar\n",
            "123 456\n"
          ]
        }
      ]
    },
    {
      "cell_type": "code",
      "source": [
        "file = open(\"/content/file.txt\", \"r\")\n",
        "print (file.read(5))\n"
      ],
      "metadata": {
        "colab": {
          "base_uri": "https://localhost:8080/"
        },
        "id": "nEL_ziJiCYjK",
        "outputId": "9dbcb067-8c44-4b4a-8713-6d2468b89e14"
      },
      "execution_count": null,
      "outputs": [
        {
          "output_type": "stream",
          "name": "stdout",
          "text": [
            "Hello\n"
          ]
        }
      ]
    },
    {
      "cell_type": "code",
      "source": [
        "file = open('/content/file.txt','w')\n",
        "file.write(\"This is the write command\")\n",
        "file.write(\"It allows us to write in a particular file\")\n",
        "file.close()"
      ],
      "metadata": {
        "id": "yqgZQG9ZCvPL"
      },
      "execution_count": null,
      "outputs": []
    },
    {
      "cell_type": "markdown",
      "source": [
        "#**Date: 18oct.2023**"
      ],
      "metadata": {
        "id": "VPYjo_USn2-Z"
      }
    },
    {
      "cell_type": "markdown",
      "source": [
        "##**Section:26- List Comprehension**"
      ],
      "metadata": {
        "id": "5qikNfE0n9DF"
      }
    },
    {
      "cell_type": "markdown",
      "source": [
        "###33.Problem"
      ],
      "metadata": {
        "id": "ucGiKVdloMMg"
      }
    },
    {
      "cell_type": "markdown",
      "source": [
        "You are going to write a List Comprehension to create a new list called squared_numbers. This new list should contain every number in the list numbers but each number should be squared.\n",
        "\n",
        "e.g.\n",
        "4 * 4 = 16\n",
        "\n",
        "4 squared equals 16.\n",
        "\n",
        "DO NOT modify the List numbers directly. Try to use List Comprehension instead of a Loop.\n",
        "\n",
        "Target Output\n",
        "\n",
        "[1, 1, 4, 9, 25, 64, 169, 441, 1156, 3025]\n"
      ],
      "metadata": {
        "id": "IRflU1cQoSYV"
      }
    },
    {
      "cell_type": "code",
      "source": [
        "numbers = [1, 1, 2, 3, 5, 8, 13, 21, 34, 55]\n",
        "\n",
        "squared_numbers = [i * i for i in numbers]\n",
        "\n",
        "print(squared_numbers)\n"
      ],
      "metadata": {
        "colab": {
          "base_uri": "https://localhost:8080/"
        },
        "id": "wbOJRoMGoR0U",
        "outputId": "c5929269-b04f-487b-833b-964acd41633d"
      },
      "execution_count": null,
      "outputs": [
        {
          "output_type": "stream",
          "name": "stdout",
          "text": [
            "[1, 1, 4, 9, 25, 64, 169, 441, 1156, 3025]\n"
          ]
        }
      ]
    },
    {
      "cell_type": "markdown",
      "source": [
        "###34.Problem"
      ],
      "metadata": {
        "id": "NTyyLMG38K23"
      }
    },
    {
      "cell_type": "markdown",
      "source": [
        "In this list comprehension exercise you will practice using list comprehension to filter out the even numbers from a series of numbers.\n",
        "\n",
        "First, use list comprehension to convert the list_of_strings to a list of integers.\n",
        "\n",
        "Then use list comprehension again to create a new list called result. This new list should only contain the even numbers from the list numbers.\n",
        "\n",
        "Again, try to use Python's List Comprehension instead of a Loop.\n",
        "\n",
        "**Example Input**\n",
        "\n",
        "9, 0, 32, 8, 2, 8, 64, 29, 42, 99\n",
        "\n",
        "**Example Output**\n",
        "\n",
        "[0, 32, 8, 2, 8, 64, 42]"
      ],
      "metadata": {
        "id": "DpPVMUnp8Obf"
      }
    },
    {
      "cell_type": "code",
      "source": [
        "list_of_strings = input().split(',')\n",
        "# 🚨 Do  not change the code above\n",
        "\n",
        "# TODO: Use list comprehension to convert the strings to integers 👇:\n",
        "num = [int(x) for x in list_of_strings]\n",
        "\n",
        "# TODO: Use list comprehension to filter out the odd numbers\n",
        "# and store the even numbers in a list called \"result\"\n",
        "result = [x for x in num if x%2==0]\n",
        "\n",
        "# Write your code 👆 above:\n",
        "print(result)"
      ],
      "metadata": {
        "colab": {
          "base_uri": "https://localhost:8080/"
        },
        "id": "gJQ6zbow9N9V",
        "outputId": "4cfd71a1-ec3a-4673-f16f-b6af735a69f9"
      },
      "execution_count": null,
      "outputs": [
        {
          "output_type": "stream",
          "name": "stdout",
          "text": [
            "9, 0, 32, 8, 2, 8, 64, 29, 42, 99\n",
            "[0, 32, 8, 2, 8, 64, 42]\n"
          ]
        }
      ]
    },
    {
      "cell_type": "markdown",
      "source": [
        "###35.Problem"
      ],
      "metadata": {
        "id": "BKcW2l5p9wOW"
      }
    },
    {
      "cell_type": "code",
      "source": [
        "with open(\"/content/file1.txt\") as file1:\n",
        "  list1 = file1.readlines()\n",
        "\n",
        "with open(\"/content/file2.txt\") as file2:\n",
        "  list2 = file2.readlines()\n",
        "\n",
        "result = [int(num) for num in list1 if num in list2]\n",
        "\n",
        "# Your code above 👆\n",
        "print(result)"
      ],
      "metadata": {
        "colab": {
          "base_uri": "https://localhost:8080/"
        },
        "id": "nTVVl8H3_Mna",
        "outputId": "204fe637-3e5d-4a84-986d-cecc2c5a3c0e"
      },
      "execution_count": null,
      "outputs": [
        {
          "output_type": "stream",
          "name": "stdout",
          "text": [
            "[2, 3, 4, 5]\n"
          ]
        }
      ]
    },
    {
      "cell_type": "markdown",
      "source": [
        "###36.Problem"
      ],
      "metadata": {
        "id": "9R4UkhX0CuJU"
      }
    },
    {
      "cell_type": "markdown",
      "source": [
        "You are going to use Dictionary Comprehension to create a dictionary called result that takes each word in the given sentence and calculates the number of letters in each word.\n",
        "\n",
        "Try Googling to find out how to convert a sentence into a list of words.\n",
        "\n",
        "Do NOT Create a dictionary directly. Try to use Dictionary Comprehension instead of a Loop.\n",
        "\n",
        "**Example Input**\n",
        "\n",
        "What is the Airspeed Velocity of an Unladen Swallow?\n",
        "\n",
        "**Example Output**\n",
        "\n",
        "{\n",
        "'What': 4,\n",
        "\n",
        "'is': 2,\n",
        "\n",
        "'the': 3,\n",
        "\n",
        "'Airspeed': 8,\n",
        "\n",
        "'Velocity': 8,\n",
        "\n",
        "'of': 2,\n",
        "\n",
        "'an': 2,\n",
        "\n",
        "'Unladen': 7,\n",
        "\n",
        "'Swallow?': 8\n",
        "\n",
        "}"
      ],
      "metadata": {
        "id": "TkdqyROAC5c8"
      }
    },
    {
      "cell_type": "code",
      "source": [
        "sentence = input()\n",
        "\n",
        "# Using dictionary comprehension\n",
        "result = {word:len(word) for word in sentence.split()}\n",
        "\n",
        "print(result)"
      ],
      "metadata": {
        "colab": {
          "base_uri": "https://localhost:8080/"
        },
        "id": "Icuidu8wDFmO",
        "outputId": "53215558-7419-4cf0-d265-682035b11cb0"
      },
      "execution_count": null,
      "outputs": [
        {
          "output_type": "stream",
          "name": "stdout",
          "text": [
            "What is the Airspeed Velocity of an Unladen Swallow?\n",
            "{'What': 4, 'is': 2, 'the': 3, 'Airspeed': 8, 'Velocity': 8, 'of': 2, 'an': 2, 'Unladen': 7, 'Swallow?': 8}\n"
          ]
        }
      ]
    },
    {
      "cell_type": "markdown",
      "source": [
        "###37.Problem"
      ],
      "metadata": {
        "id": "yWZCecX8DUZI"
      }
    },
    {
      "cell_type": "code",
      "source": [
        "# eval() converts correctly formatted string to dict\n",
        "weather_c = eval(input())\n",
        "\n",
        "# dictionary comprehension\n",
        "weather_f = {day:temp * 9/5 + 32 for (day, temp) in weather_c.items()}\n",
        "\n",
        "print(weather_f)"
      ],
      "metadata": {
        "colab": {
          "base_uri": "https://localhost:8080/"
        },
        "id": "gJfj422eETGP",
        "outputId": "900bb522-6869-4750-c8ac-4c7bbefb67eb"
      },
      "execution_count": null,
      "outputs": [
        {
          "output_type": "stream",
          "name": "stdout",
          "text": [
            "{\"Monday\": 12, \"Tuesday\": 14, \"Wednesday\": 15, \"Thursday\": 14, \"Friday\": 21, \"Saturday\": 22, \"Sunday\": 24}\n",
            "{'Monday': 53.6, 'Tuesday': 57.2, 'Wednesday': 59.0, 'Thursday': 57.2, 'Friday': 69.8, 'Saturday': 71.6, 'Sunday': 75.2}\n"
          ]
        }
      ]
    },
    {
      "cell_type": "markdown",
      "source": [
        "##Section:27- *args & * *kwargs"
      ],
      "metadata": {
        "id": "-Dpu7UZ0P4KT"
      }
    },
    {
      "cell_type": "markdown",
      "source": [
        "###38.Problem"
      ],
      "metadata": {
        "id": "cwXbrD5nNfL8"
      }
    },
    {
      "cell_type": "code",
      "source": [
        "def add(*args):\n",
        "    # print(args[1])\n",
        "\n",
        "    sum = 0\n",
        "    for n in args:\n",
        "        sum += n\n",
        "    return sum\n",
        "print(add(3, 5, 6, 2, 1, 7, 4, 3))\n"
      ],
      "metadata": {
        "colab": {
          "base_uri": "https://localhost:8080/"
        },
        "id": "H9VEtSlWNiEu",
        "outputId": "70a156d0-6e81-4922-9367-7bad88edb87a"
      },
      "execution_count": null,
      "outputs": [
        {
          "output_type": "stream",
          "name": "stdout",
          "text": [
            "31\n"
          ]
        }
      ]
    },
    {
      "cell_type": "markdown",
      "source": [
        "###39.Problem"
      ],
      "metadata": {
        "id": "y7sdNudjOEwv"
      }
    },
    {
      "cell_type": "code",
      "source": [
        "def calculate(n, **kwargs):\n",
        "    print(kwargs)\n",
        "\n",
        "    n += kwargs[\"add\"]\n",
        "    n *= kwargs[\"multiply\"]\n",
        "    print(n)\n",
        "\n",
        "\n",
        "calculate(2, add=3, multiply=5)"
      ],
      "metadata": {
        "colab": {
          "base_uri": "https://localhost:8080/"
        },
        "id": "HMPYbrinNxaI",
        "outputId": "1dbeb34b-d610-4de1-b6e8-22e879e8be3a"
      },
      "execution_count": null,
      "outputs": [
        {
          "output_type": "stream",
          "name": "stdout",
          "text": [
            "{'add': 3, 'multiply': 5}\n",
            "25\n"
          ]
        }
      ]
    }
  ]
}