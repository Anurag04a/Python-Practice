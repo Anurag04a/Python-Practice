{
  "nbformat": 4,
  "nbformat_minor": 0,
  "metadata": {
    "colab": {
      "provenance": [],
      "toc_visible": true
    },
    "kernelspec": {
      "name": "python3",
      "display_name": "Python 3"
    },
    "language_info": {
      "name": "python"
    }
  },
  "cells": [
    {
      "cell_type": "markdown",
      "source": [
        "#**Section 29-33**"
      ],
      "metadata": {
        "id": "6NYiJ0g-MskV"
      }
    },
    {
      "cell_type": "code",
      "source": [
        "# Input a list of student scores\n",
        "student_scores = input().split()\n",
        "for n in range(0, len(student_scores)):\n",
        "  student_scores[n] = int(student_scores[n])\n",
        "\n",
        "# Write your code below this row 👇\n",
        "highest = student_scores[0]\n",
        "for h in student_scores:\n",
        "  if h > highest:\n",
        "    highest = h\n",
        "\n",
        "print(f\"The highest score in the class is: {highest}\")\n"
      ],
      "metadata": {
        "colab": {
          "base_uri": "https://localhost:8080/"
        },
        "id": "ua4r9XRoLuAL",
        "outputId": "b0434b2c-dff3-4ffc-e7c3-2399016d2f86"
      },
      "execution_count": null,
      "outputs": [
        {
          "output_type": "stream",
          "name": "stdout",
          "text": [
            "49 50 39 40 12\n",
            "The highest score in the class is: 50\n"
          ]
        }
      ]
    },
    {
      "cell_type": "markdown",
      "source": [
        "###23.Problem"
      ],
      "metadata": {
        "id": "moUnHs8xPvX5"
      }
    },
    {
      "cell_type": "markdown",
      "source": [
        "You are going to write a program that calculates the sum of all the even numbers from 1 to X. If X is 100 then the first even number would be 2 and the last one is 100:"
      ],
      "metadata": {
        "id": "qvrTcwY0QAYK"
      }
    },
    {
      "cell_type": "code",
      "source": [
        "target = int(input()) # Enter a number between 0 and 1000\n",
        "# 🚨 Do not change the code above ☝️\n",
        "\n",
        "# Write your code here 👇\n",
        "sum = 0\n",
        "for i in range(0,target+1,2):\n",
        "  sum = sum +i\n",
        "print(sum)"
      ],
      "metadata": {
        "colab": {
          "base_uri": "https://localhost:8080/"
        },
        "id": "FG_dOhOWQNoj",
        "outputId": "be768bd8-7011-4b30-e0b1-5e587e8424f4"
      },
      "execution_count": null,
      "outputs": [
        {
          "output_type": "stream",
          "name": "stdout",
          "text": [
            "52\n",
            "702\n"
          ]
        }
      ]
    },
    {
      "cell_type": "markdown",
      "source": [
        "###24.Problem"
      ],
      "metadata": {
        "id": "yg1pIdvxRK8w"
      }
    },
    {
      "cell_type": "markdown",
      "source": [
        "You are going to write a program that automatically prints the solution to the FizzBuzz game. These are the rules of the FizzBuzz game:\n",
        "\n",
        "Your program should print each number from 1 to 100 in turn and include number 100.\n",
        "\n",
        "When the number is divisible by 3 then instead of printing the number it should print \"Fizz\".\n",
        "\n",
        "When the number is divisible by 5, then instead of printing the number it should print \"Buzz\".`\n",
        "\n",
        "And if the number is divisible by both 3 and 5 e.g. 15 then instead of the number it should print \"FizzBuzz\"\n",
        "\n",
        "e.g. it might start off like this:\n",
        "\n",
        "1\n",
        "\n",
        "2\n",
        "\n",
        "Fizz\n",
        "\n",
        "4\n",
        "\n",
        "Buzz\n",
        "\n",
        "Fizz\n",
        "\n",
        "7\n",
        "\n",
        "8\n",
        "\n",
        "Fizz\n",
        "\n",
        "Buzz\n",
        "\n",
        "11\n",
        "\n",
        "Fizz\n",
        "\n",
        "13\n",
        "\n",
        "14\n",
        "\n",
        "FizzBuzz\n",
        "\n",
        "...etc"
      ],
      "metadata": {
        "id": "ccJff_u7TUEJ"
      }
    },
    {
      "cell_type": "code",
      "source": [
        "# Write your code here 👇\n",
        "num = 100\n",
        "for i in range(1,101):\n",
        "  if i%3==0:\n",
        "    if i%5==0:\n",
        "      print(\"FizzBuzz\")\n",
        "    else:\n",
        "      print(\"Fizz\")\n",
        "  elif i%5==0:\n",
        "    print(\"Buzz\")\n",
        "  else:\n",
        "    print(i)"
      ],
      "metadata": {
        "colab": {
          "base_uri": "https://localhost:8080/"
        },
        "id": "6hoAhJ3_TUfU",
        "outputId": "c5d4dbb4-e6d4-4be9-fc16-3fe2130c4b52"
      },
      "execution_count": null,
      "outputs": [
        {
          "output_type": "stream",
          "name": "stdout",
          "text": [
            "1\n",
            "2\n",
            "Fizz\n",
            "4\n",
            "Buzz\n",
            "Fizz\n",
            "7\n",
            "8\n",
            "Fizz\n",
            "Buzz\n",
            "11\n",
            "Fizz\n",
            "13\n",
            "14\n",
            "FizzBuzz\n",
            "16\n",
            "17\n",
            "Fizz\n",
            "19\n",
            "Buzz\n",
            "Fizz\n",
            "22\n",
            "23\n",
            "Fizz\n",
            "Buzz\n",
            "26\n",
            "Fizz\n",
            "28\n",
            "29\n",
            "FizzBuzz\n",
            "31\n",
            "32\n",
            "Fizz\n",
            "34\n",
            "Buzz\n",
            "Fizz\n",
            "37\n",
            "38\n",
            "Fizz\n",
            "Buzz\n",
            "41\n",
            "Fizz\n",
            "43\n",
            "44\n",
            "FizzBuzz\n",
            "46\n",
            "47\n",
            "Fizz\n",
            "49\n",
            "Buzz\n",
            "Fizz\n",
            "52\n",
            "53\n",
            "Fizz\n",
            "Buzz\n",
            "56\n",
            "Fizz\n",
            "58\n",
            "59\n",
            "FizzBuzz\n",
            "61\n",
            "62\n",
            "Fizz\n",
            "64\n",
            "Buzz\n",
            "Fizz\n",
            "67\n",
            "68\n",
            "Fizz\n",
            "Buzz\n",
            "71\n",
            "Fizz\n",
            "73\n",
            "74\n",
            "FizzBuzz\n",
            "76\n",
            "77\n",
            "Fizz\n",
            "79\n",
            "Buzz\n",
            "Fizz\n",
            "82\n",
            "83\n",
            "Fizz\n",
            "Buzz\n",
            "86\n",
            "Fizz\n",
            "88\n",
            "89\n",
            "FizzBuzz\n",
            "91\n",
            "92\n",
            "Fizz\n",
            "94\n",
            "Buzz\n",
            "Fizz\n",
            "97\n",
            "98\n",
            "Fizz\n",
            "Buzz\n"
          ]
        }
      ]
    },
    {
      "cell_type": "markdown",
      "source": [
        "###25.Problem: Password Generator"
      ],
      "metadata": {
        "id": "fyvTOZyeT7qc"
      }
    },
    {
      "cell_type": "code",
      "source": [
        "#Password Generator Project\n",
        "import random\n",
        "letters = ['a', 'b', 'c', 'd', 'e', 'f', 'g', 'h', 'i', 'j', 'k', 'l', 'm', 'n', 'o', 'p', 'q', 'r', 's', 't', 'u', 'v', 'w', 'x', 'y', 'z', 'A', 'B', 'C', 'D', 'E', 'F', 'G', 'H', 'I', 'J', 'K', 'L', 'M', 'N', 'O', 'P', 'Q', 'R', 'S', 'T', 'U', 'V', 'W', 'X', 'Y', 'Z']\n",
        "numbers = ['0', '1', '2', '3', '4', '5', '6', '7', '8', '9']\n",
        "symbols = ['!', '#', '$', '%', '&', '(', ')', '*', '+']\n",
        "\n",
        "print(\"Welcome to the PyPassword Generator!\")\n",
        "nr_letters = int(input(\"How many letters would you like in your password?\\n\"))\n",
        "nr_symbols = int(input(f\"How many symbols would you like?\\n\"))\n",
        "nr_numbers = int(input(f\"How many numbers would you like?\\n\"))\n",
        "\n",
        "password_list = []\n",
        "\n",
        "for char in range(1, nr_letters + 1):\n",
        "  password_list.append(random.choice(letters))\n",
        "\n",
        "for char in range(1, nr_symbols + 1):\n",
        "  password_list += random.choice(symbols)\n",
        "\n",
        "for char in range(1, nr_numbers + 1):\n",
        "  password_list += random.choice(numbers)\n",
        "\n",
        "print(password_list)\n",
        "random.shuffle(password_list)\n",
        "print(password_list)\n",
        "\n",
        "password = \"\"\n",
        "for char in password_list:\n",
        "  password += char\n",
        "\n",
        "print(f\"Your password is: {password}\")"
      ],
      "metadata": {
        "colab": {
          "base_uri": "https://localhost:8080/"
        },
        "id": "fKFlPG14UZxk",
        "outputId": "ad62dcf1-ae14-4ff6-9c92-d61a5b51da4a"
      },
      "execution_count": null,
      "outputs": [
        {
          "output_type": "stream",
          "name": "stdout",
          "text": [
            "Welcome to the PyPassword Generator!\n",
            "How many letters would you like in your password?\n",
            "3\n",
            "How many symbols would you like?\n",
            "2\n",
            "How many numbers would you like?\n",
            "3\n",
            "['M', 'G', 'R', '$', '&', '9', '1', '8']\n",
            "['8', '&', '1', 'M', 'R', '9', 'G', '$']\n",
            "Your password is: 8&1MR9G$\n"
          ]
        }
      ]
    },
    {
      "cell_type": "markdown",
      "source": [
        "###26.Problem"
      ],
      "metadata": {
        "id": "cMU8SsolekB4"
      }
    },
    {
      "cell_type": "markdown",
      "source": [
        "You are painting a wall. The instructions on the paint can says that 1 can of paint can cover 5 square meters of wall. Given a random height and width of wall, calculate how many cans of paint you'll need to buy.\n",
        "\n",
        "**number of cans = (wall height x wall width) ÷ coverage per can.**\n",
        "\n",
        "e.g. Height = 2, Width = 4, Coverage = 5\n",
        "\n",
        "**number of cans = (2 \\* 4) / 5 = 1.6**\n",
        "\n",
        "But because you can't buy 0.6 of a can of paint, the result should be rounded up to 2 cans.\n",
        "\n",
        "Example Input\n",
        "\n",
        "3\n",
        "\n",
        "9\n",
        "\n",
        "**Example Output:**\n",
        "\n",
        "You'll need 6 cans of paint."
      ],
      "metadata": {
        "id": "PMwztJ52foC0"
      }
    },
    {
      "cell_type": "code",
      "source": [
        "# Write your code below this line 👇\n",
        "import math\n",
        "def paint_calc(height, width,cover):\n",
        "  cans = math.ceil((height*width)/cover)\n",
        "  print(f\"You'll need {cans} cans of paint.\")\n",
        "\n",
        "\n",
        "\n",
        "# Write your code above this line 👆\n",
        "# Define a function called paint_calc() so the code below works.\n",
        "\n",
        "# 🚨 Don't change the code below 👇\n",
        "test_h = int(input()) # Height of wall (m)\n",
        "test_w = int(input()) # Width of wall (m)\n",
        "coverage = 5\n",
        "paint_calc(height=test_h, width=test_w, cover=coverage)"
      ],
      "metadata": {
        "colab": {
          "base_uri": "https://localhost:8080/"
        },
        "id": "mM2BHjRNgcdB",
        "outputId": "04b006f1-678c-43da-e344-67bbd531b699"
      },
      "execution_count": null,
      "outputs": [
        {
          "output_type": "stream",
          "name": "stdout",
          "text": [
            "3\n",
            "9\n",
            "You'll need 6 cans of paint.\n"
          ]
        }
      ]
    },
    {
      "cell_type": "markdown",
      "source": [
        "###27.Problem"
      ],
      "metadata": {
        "id": "H1Y-9IdzeqHI"
      }
    },
    {
      "cell_type": "markdown",
      "source": [
        "You need to write a function that checks whether if the number passed into it is a prime number or not."
      ],
      "metadata": {
        "id": "vmRf5daeh8C0"
      }
    },
    {
      "cell_type": "code",
      "source": [
        "# Write your code below this line 👇\n",
        "def prime_checker(number):\n",
        "  if n<2:\n",
        "    print(\"It's not a prime number.\")\n",
        "  else:\n",
        "    for i in range(2,n//2):\n",
        "      if n%i==0:\n",
        "        print(\"It's not a prime number.\")\n",
        "        break\n",
        "    else:\n",
        "      print(\"It's a prime number.\")\n",
        "\n",
        "\n",
        "\n",
        "# Write your code above this line 👆\n",
        "\n",
        "#Do NOT change any of the code below👇\n",
        "n = int(input()) # Check this number\n",
        "prime_checker(number=n)"
      ],
      "metadata": {
        "colab": {
          "base_uri": "https://localhost:8080/"
        },
        "id": "ZV1131NUiVI4",
        "outputId": "24d4d57f-da6a-4923-db6a-3f4ce0af6347"
      },
      "execution_count": 1,
      "outputs": [
        {
          "output_type": "stream",
          "name": "stdout",
          "text": [
            "19\n",
            "It's a prime number.\n"
          ]
        }
      ]
    }
  ]
}